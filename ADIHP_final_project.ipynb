{
  "nbformat": 4,
  "nbformat_minor": 0,
  "metadata": {
    "colab": {
      "name": "ADIHP final project",
      "provenance": [],
      "collapsed_sections": [],
      "include_colab_link": true
    },
    "kernelspec": {
      "name": "python3",
      "display_name": "Python 3"
    },
    "language_info": {
      "name": "python"
    }
  },
  "cells": [
    {
      "cell_type": "markdown",
      "metadata": {
        "id": "view-in-github",
        "colab_type": "text"
      },
      "source": [
        "<a href=\"https://colab.research.google.com/github/SusannYY/ADIHP-HealthcareFraud/blob/main/ADIHP_final_project.ipynb\" target=\"_parent\"><img src=\"https://colab.research.google.com/assets/colab-badge.svg\" alt=\"Open In Colab\"/></a>"
      ]
    },
    {
      "cell_type": "markdown",
      "source": [
        "#Anomaly Detection in Healthcare Providers"
      ],
      "metadata": {
        "id": "vm40ogJadYJ4"
      }
    },
    {
      "cell_type": "markdown",
      "source": [
        "#Imported Packages and Functions"
      ],
      "metadata": {
        "id": "FIxh9YYldxsL"
      }
    },
    {
      "cell_type": "code",
      "execution_count": null,
      "metadata": {
        "id": "6CPNMr5Ghmc6"
      },
      "outputs": [],
      "source": [
        "import numpy as np\n",
        "import shapely\n",
        "import matplotlib.pyplot as plt\n",
        "import seaborn as sns\n",
        "import folium\n",
        "from folium import plugins\n",
        "import pandas as pd\n",
        "\n",
        "from sklearn.linear_model import LinearRegression\n",
        "from sklearn.model_selection import train_test_split\n",
        "from sklearn.linear_model import LogisticRegression\n",
        "\n",
        "%matplotlib inline"
      ]
    },
    {
      "cell_type": "code",
      "source": [
        "#RMSE \n",
        "def root_mean_squared_error(predicted, actual):\n",
        "  return np.mean((actual - predicted) ** 2) ** 0.5"
      ],
      "metadata": {
        "id": "7YjsUalWZ847"
      },
      "execution_count": null,
      "outputs": []
    },
    {
      "cell_type": "code",
      "source": [
        "#MAE\n",
        "def mean_absolute_error(predicted, actual):\n",
        "  return np.mean(abs(predicted - actual))"
      ],
      "metadata": {
        "id": "7eGtqCmsZ_6-"
      },
      "execution_count": null,
      "outputs": []
    },
    {
      "cell_type": "markdown",
      "source": [
        "# Expected Steps:\n",
        "Step 1: using visualization to find outliers (Folium Mapping may be used to visualize the outliers scattering map) \\\n",
        "Step 2: using regression models to find 'what variables are associated with whether or not payment for a medical service is an outlier'"
      ],
      "metadata": {
        "id": "kqucCv9WioRI"
      }
    },
    {
      "cell_type": "markdown",
      "source": [
        "## Data Cleaning"
      ],
      "metadata": {
        "id": "VjN-wLl_Yj37"
      }
    },
    {
      "cell_type": "code",
      "source": [
        "df = pd.read_csv(\"/content/Healthcare Providers (1).csv\")\n",
        "df"
      ],
      "metadata": {
        "id": "bD6O-QpuiYdC",
        "colab": {
          "base_uri": "https://localhost:8080/",
          "height": 1000
        },
        "outputId": "8d7e7264-78f3-4752-c16a-84e780792eb7"
      },
      "execution_count": null,
      "outputs": [
        {
          "output_type": "execute_result",
          "data": {
            "text/plain": [
              "         index  National Provider Identifier  \\\n",
              "0      8774979                    1891106191   \n",
              "1      3354385                    1346202256   \n",
              "2      3001884                    1306820956   \n",
              "3      7594822                    1770523540   \n",
              "4       746159                    1073627758   \n",
              "...        ...                           ...   \n",
              "99995  3837311                    1386938868   \n",
              "99996  2079360                    1215091327   \n",
              "99997  8927965                    1902868185   \n",
              "99998  8854571                    1891941183   \n",
              "99999  3547535                    1356772156   \n",
              "\n",
              "      Last Name/Organization Name of the Provider First Name of the Provider  \\\n",
              "0                                     UPADHYAYULA                  SATYASREE   \n",
              "1                                           JONES                      WENDY   \n",
              "2                                        DUROCHER                    RICHARD   \n",
              "3                                         FULLARD                     JASPER   \n",
              "4                                        PERROTTI                    ANTHONY   \n",
              "...                                           ...                        ...   \n",
              "99995                                       PAPES                       JOAN   \n",
              "99996                                      HAYNER                   MARGARET   \n",
              "99997                                    VALENCIA                       DANA   \n",
              "99998                              GONZALEZ-LAMOS                    RAFAELA   \n",
              "99999                                    RAMEZANI                     ELIIAN   \n",
              "\n",
              "      Middle Initial of the Provider Credentials of the Provider  \\\n",
              "0                                NaN                        M.D.   \n",
              "1                                  P                        M.D.   \n",
              "2                                  W                         DPM   \n",
              "3                                NaN                          MD   \n",
              "4                                  E                          DO   \n",
              "...                              ...                         ...   \n",
              "99995                            NaN                          PT   \n",
              "99996                              S                        ARNP   \n",
              "99997                            NaN                        M.D.   \n",
              "99998                            NaN                         NaN   \n",
              "99999                            NaN                         NaN   \n",
              "\n",
              "      Gender of the Provider Entity Type of the Provider  \\\n",
              "0                          F                           I   \n",
              "1                          F                           I   \n",
              "2                          M                           I   \n",
              "3                          M                           I   \n",
              "4                          M                           I   \n",
              "...                      ...                         ...   \n",
              "99995                      F                           I   \n",
              "99996                      F                           I   \n",
              "99997                      M                           I   \n",
              "99998                      F                           I   \n",
              "99999                      F                           I   \n",
              "\n",
              "      Street Address 1 of the Provider Street Address 2 of the Provider  ...  \\\n",
              "0                    1402 S GRAND BLVD                   FDT 14TH FLOOR  ...   \n",
              "1                      2950 VILLAGE DR                              NaN  ...   \n",
              "2                    20 WASHINGTON AVE                          STE 212  ...   \n",
              "3                   5746 N BROADWAY ST                              NaN  ...   \n",
              "4                     875 MILITARY TRL                        SUITE 200  ...   \n",
              "...                                ...                              ...  ...   \n",
              "99995               324 E BALTIMORE ST                              NaN  ...   \n",
              "99996                    645 NW 4TH ST                              NaN  ...   \n",
              "99997                 3009 N BALLAS RD                       SUITE 202B  ...   \n",
              "99998              2365 BOSTON POST RD                        SUITE 201  ...   \n",
              "99999        444 MIDDLE NECK RD APT 1H                              NaN  ...   \n",
              "\n",
              "      HCPCS Code                                  HCPCS Description  \\\n",
              "0          99223  Initial hospital inpatient care, typically 70 ...   \n",
              "1          G0202  Screening mammography, bilateral (2-view study...   \n",
              "2          99348  Established patient home visit, typically 25 m...   \n",
              "3          81002                            Urinalysis, manual test   \n",
              "4          96372  Injection beneath the skin or into muscle for ...   \n",
              "...          ...                                                ...   \n",
              "99995      97162  Evaluation of physical therapy, typically 30 m...   \n",
              "99996      99213  Established patient office or other outpatient...   \n",
              "99997      93320  Doppler ultrasound study of heart blood flow, ...   \n",
              "99998      G0008          Administration of influenza virus vaccine   \n",
              "99999      97112  Therapeutic procedure to re-educate brain-to-n...   \n",
              "\n",
              "      HCPCS Drug Indicator Number of Services  \\\n",
              "0                        N                 27   \n",
              "1                        N                175   \n",
              "2                        N                 32   \n",
              "3                        N                 20   \n",
              "4                        N                 33   \n",
              "...                    ...                ...   \n",
              "99995                    N                 20   \n",
              "99996                    N                136   \n",
              "99997                    N                 11   \n",
              "99998                    N                 12   \n",
              "99999                    N                589   \n",
              "\n",
              "      Number of Medicare Beneficiaries  \\\n",
              "0                                   24   \n",
              "1                                  175   \n",
              "2                                   13   \n",
              "3                                   18   \n",
              "4                                   24   \n",
              "...                                ...   \n",
              "99995                               20   \n",
              "99996                              107   \n",
              "99997                               11   \n",
              "99998                               12   \n",
              "99999                               76   \n",
              "\n",
              "      Number of Distinct Medicare Beneficiary/Per Day Services  \\\n",
              "0                                                     27         \n",
              "1                                                    175         \n",
              "2                                                     32         \n",
              "3                                                     20         \n",
              "4                                                     31         \n",
              "...                                                  ...         \n",
              "99995                                                 20         \n",
              "99996                                                136         \n",
              "99997                                                 11         \n",
              "99998                                                 12         \n",
              "99999                                                587         \n",
              "\n",
              "      Average Medicare Allowed Amount Average Submitted Charge Amount  \\\n",
              "0                        200.58777778                    305.21111111   \n",
              "1                              123.73                           548.8   \n",
              "2                               90.65                             155   \n",
              "3                                 3.5                               5   \n",
              "4                               26.52                              40   \n",
              "...                               ...                             ...   \n",
              "99995                         85.3725                             214   \n",
              "99996                           61.27                    144.05147059   \n",
              "99997                           17.98                    109.54545455   \n",
              "99998                           30.54                              65   \n",
              "99999                    38.601052632                    46.867572156   \n",
              "\n",
              "      Average Medicare Payment Amount Average Medicare Standardized Amount  \n",
              "0                        157.26222222                         160.90888889  \n",
              "1                              118.83                         135.31525714  \n",
              "2                          64.4396875                           60.5959375  \n",
              "3                                3.43                                 3.43  \n",
              "4                        19.539393939                         19.057575758  \n",
              "...                               ...                                  ...  \n",
              "99995                         60.7255                              62.2485  \n",
              "99996                    30.006176471                         37.040220588  \n",
              "99997                           14.09                                14.62  \n",
              "99998                           29.93                                25.32  \n",
              "99999                    29.736876061                         25.912139219  \n",
              "\n",
              "[100000 rows x 27 columns]"
            ],
            "text/html": [
              "\n",
              "  <div id=\"df-83c9145c-145d-48d7-9232-b28292ff38ae\">\n",
              "    <div class=\"colab-df-container\">\n",
              "      <div>\n",
              "<style scoped>\n",
              "    .dataframe tbody tr th:only-of-type {\n",
              "        vertical-align: middle;\n",
              "    }\n",
              "\n",
              "    .dataframe tbody tr th {\n",
              "        vertical-align: top;\n",
              "    }\n",
              "\n",
              "    .dataframe thead th {\n",
              "        text-align: right;\n",
              "    }\n",
              "</style>\n",
              "<table border=\"1\" class=\"dataframe\">\n",
              "  <thead>\n",
              "    <tr style=\"text-align: right;\">\n",
              "      <th></th>\n",
              "      <th>index</th>\n",
              "      <th>National Provider Identifier</th>\n",
              "      <th>Last Name/Organization Name of the Provider</th>\n",
              "      <th>First Name of the Provider</th>\n",
              "      <th>Middle Initial of the Provider</th>\n",
              "      <th>Credentials of the Provider</th>\n",
              "      <th>Gender of the Provider</th>\n",
              "      <th>Entity Type of the Provider</th>\n",
              "      <th>Street Address 1 of the Provider</th>\n",
              "      <th>Street Address 2 of the Provider</th>\n",
              "      <th>...</th>\n",
              "      <th>HCPCS Code</th>\n",
              "      <th>HCPCS Description</th>\n",
              "      <th>HCPCS Drug Indicator</th>\n",
              "      <th>Number of Services</th>\n",
              "      <th>Number of Medicare Beneficiaries</th>\n",
              "      <th>Number of Distinct Medicare Beneficiary/Per Day Services</th>\n",
              "      <th>Average Medicare Allowed Amount</th>\n",
              "      <th>Average Submitted Charge Amount</th>\n",
              "      <th>Average Medicare Payment Amount</th>\n",
              "      <th>Average Medicare Standardized Amount</th>\n",
              "    </tr>\n",
              "  </thead>\n",
              "  <tbody>\n",
              "    <tr>\n",
              "      <th>0</th>\n",
              "      <td>8774979</td>\n",
              "      <td>1891106191</td>\n",
              "      <td>UPADHYAYULA</td>\n",
              "      <td>SATYASREE</td>\n",
              "      <td>NaN</td>\n",
              "      <td>M.D.</td>\n",
              "      <td>F</td>\n",
              "      <td>I</td>\n",
              "      <td>1402 S GRAND BLVD</td>\n",
              "      <td>FDT 14TH FLOOR</td>\n",
              "      <td>...</td>\n",
              "      <td>99223</td>\n",
              "      <td>Initial hospital inpatient care, typically 70 ...</td>\n",
              "      <td>N</td>\n",
              "      <td>27</td>\n",
              "      <td>24</td>\n",
              "      <td>27</td>\n",
              "      <td>200.58777778</td>\n",
              "      <td>305.21111111</td>\n",
              "      <td>157.26222222</td>\n",
              "      <td>160.90888889</td>\n",
              "    </tr>\n",
              "    <tr>\n",
              "      <th>1</th>\n",
              "      <td>3354385</td>\n",
              "      <td>1346202256</td>\n",
              "      <td>JONES</td>\n",
              "      <td>WENDY</td>\n",
              "      <td>P</td>\n",
              "      <td>M.D.</td>\n",
              "      <td>F</td>\n",
              "      <td>I</td>\n",
              "      <td>2950 VILLAGE DR</td>\n",
              "      <td>NaN</td>\n",
              "      <td>...</td>\n",
              "      <td>G0202</td>\n",
              "      <td>Screening mammography, bilateral (2-view study...</td>\n",
              "      <td>N</td>\n",
              "      <td>175</td>\n",
              "      <td>175</td>\n",
              "      <td>175</td>\n",
              "      <td>123.73</td>\n",
              "      <td>548.8</td>\n",
              "      <td>118.83</td>\n",
              "      <td>135.31525714</td>\n",
              "    </tr>\n",
              "    <tr>\n",
              "      <th>2</th>\n",
              "      <td>3001884</td>\n",
              "      <td>1306820956</td>\n",
              "      <td>DUROCHER</td>\n",
              "      <td>RICHARD</td>\n",
              "      <td>W</td>\n",
              "      <td>DPM</td>\n",
              "      <td>M</td>\n",
              "      <td>I</td>\n",
              "      <td>20 WASHINGTON AVE</td>\n",
              "      <td>STE 212</td>\n",
              "      <td>...</td>\n",
              "      <td>99348</td>\n",
              "      <td>Established patient home visit, typically 25 m...</td>\n",
              "      <td>N</td>\n",
              "      <td>32</td>\n",
              "      <td>13</td>\n",
              "      <td>32</td>\n",
              "      <td>90.65</td>\n",
              "      <td>155</td>\n",
              "      <td>64.4396875</td>\n",
              "      <td>60.5959375</td>\n",
              "    </tr>\n",
              "    <tr>\n",
              "      <th>3</th>\n",
              "      <td>7594822</td>\n",
              "      <td>1770523540</td>\n",
              "      <td>FULLARD</td>\n",
              "      <td>JASPER</td>\n",
              "      <td>NaN</td>\n",
              "      <td>MD</td>\n",
              "      <td>M</td>\n",
              "      <td>I</td>\n",
              "      <td>5746 N BROADWAY ST</td>\n",
              "      <td>NaN</td>\n",
              "      <td>...</td>\n",
              "      <td>81002</td>\n",
              "      <td>Urinalysis, manual test</td>\n",
              "      <td>N</td>\n",
              "      <td>20</td>\n",
              "      <td>18</td>\n",
              "      <td>20</td>\n",
              "      <td>3.5</td>\n",
              "      <td>5</td>\n",
              "      <td>3.43</td>\n",
              "      <td>3.43</td>\n",
              "    </tr>\n",
              "    <tr>\n",
              "      <th>4</th>\n",
              "      <td>746159</td>\n",
              "      <td>1073627758</td>\n",
              "      <td>PERROTTI</td>\n",
              "      <td>ANTHONY</td>\n",
              "      <td>E</td>\n",
              "      <td>DO</td>\n",
              "      <td>M</td>\n",
              "      <td>I</td>\n",
              "      <td>875 MILITARY TRL</td>\n",
              "      <td>SUITE 200</td>\n",
              "      <td>...</td>\n",
              "      <td>96372</td>\n",
              "      <td>Injection beneath the skin or into muscle for ...</td>\n",
              "      <td>N</td>\n",
              "      <td>33</td>\n",
              "      <td>24</td>\n",
              "      <td>31</td>\n",
              "      <td>26.52</td>\n",
              "      <td>40</td>\n",
              "      <td>19.539393939</td>\n",
              "      <td>19.057575758</td>\n",
              "    </tr>\n",
              "    <tr>\n",
              "      <th>...</th>\n",
              "      <td>...</td>\n",
              "      <td>...</td>\n",
              "      <td>...</td>\n",
              "      <td>...</td>\n",
              "      <td>...</td>\n",
              "      <td>...</td>\n",
              "      <td>...</td>\n",
              "      <td>...</td>\n",
              "      <td>...</td>\n",
              "      <td>...</td>\n",
              "      <td>...</td>\n",
              "      <td>...</td>\n",
              "      <td>...</td>\n",
              "      <td>...</td>\n",
              "      <td>...</td>\n",
              "      <td>...</td>\n",
              "      <td>...</td>\n",
              "      <td>...</td>\n",
              "      <td>...</td>\n",
              "      <td>...</td>\n",
              "      <td>...</td>\n",
              "    </tr>\n",
              "    <tr>\n",
              "      <th>99995</th>\n",
              "      <td>3837311</td>\n",
              "      <td>1386938868</td>\n",
              "      <td>PAPES</td>\n",
              "      <td>JOAN</td>\n",
              "      <td>NaN</td>\n",
              "      <td>PT</td>\n",
              "      <td>F</td>\n",
              "      <td>I</td>\n",
              "      <td>324 E BALTIMORE ST</td>\n",
              "      <td>NaN</td>\n",
              "      <td>...</td>\n",
              "      <td>97162</td>\n",
              "      <td>Evaluation of physical therapy, typically 30 m...</td>\n",
              "      <td>N</td>\n",
              "      <td>20</td>\n",
              "      <td>20</td>\n",
              "      <td>20</td>\n",
              "      <td>85.3725</td>\n",
              "      <td>214</td>\n",
              "      <td>60.7255</td>\n",
              "      <td>62.2485</td>\n",
              "    </tr>\n",
              "    <tr>\n",
              "      <th>99996</th>\n",
              "      <td>2079360</td>\n",
              "      <td>1215091327</td>\n",
              "      <td>HAYNER</td>\n",
              "      <td>MARGARET</td>\n",
              "      <td>S</td>\n",
              "      <td>ARNP</td>\n",
              "      <td>F</td>\n",
              "      <td>I</td>\n",
              "      <td>645 NW 4TH ST</td>\n",
              "      <td>NaN</td>\n",
              "      <td>...</td>\n",
              "      <td>99213</td>\n",
              "      <td>Established patient office or other outpatient...</td>\n",
              "      <td>N</td>\n",
              "      <td>136</td>\n",
              "      <td>107</td>\n",
              "      <td>136</td>\n",
              "      <td>61.27</td>\n",
              "      <td>144.05147059</td>\n",
              "      <td>30.006176471</td>\n",
              "      <td>37.040220588</td>\n",
              "    </tr>\n",
              "    <tr>\n",
              "      <th>99997</th>\n",
              "      <td>8927965</td>\n",
              "      <td>1902868185</td>\n",
              "      <td>VALENCIA</td>\n",
              "      <td>DANA</td>\n",
              "      <td>NaN</td>\n",
              "      <td>M.D.</td>\n",
              "      <td>M</td>\n",
              "      <td>I</td>\n",
              "      <td>3009 N BALLAS RD</td>\n",
              "      <td>SUITE 202B</td>\n",
              "      <td>...</td>\n",
              "      <td>93320</td>\n",
              "      <td>Doppler ultrasound study of heart blood flow, ...</td>\n",
              "      <td>N</td>\n",
              "      <td>11</td>\n",
              "      <td>11</td>\n",
              "      <td>11</td>\n",
              "      <td>17.98</td>\n",
              "      <td>109.54545455</td>\n",
              "      <td>14.09</td>\n",
              "      <td>14.62</td>\n",
              "    </tr>\n",
              "    <tr>\n",
              "      <th>99998</th>\n",
              "      <td>8854571</td>\n",
              "      <td>1891941183</td>\n",
              "      <td>GONZALEZ-LAMOS</td>\n",
              "      <td>RAFAELA</td>\n",
              "      <td>NaN</td>\n",
              "      <td>NaN</td>\n",
              "      <td>F</td>\n",
              "      <td>I</td>\n",
              "      <td>2365 BOSTON POST RD</td>\n",
              "      <td>SUITE 201</td>\n",
              "      <td>...</td>\n",
              "      <td>G0008</td>\n",
              "      <td>Administration of influenza virus vaccine</td>\n",
              "      <td>N</td>\n",
              "      <td>12</td>\n",
              "      <td>12</td>\n",
              "      <td>12</td>\n",
              "      <td>30.54</td>\n",
              "      <td>65</td>\n",
              "      <td>29.93</td>\n",
              "      <td>25.32</td>\n",
              "    </tr>\n",
              "    <tr>\n",
              "      <th>99999</th>\n",
              "      <td>3547535</td>\n",
              "      <td>1356772156</td>\n",
              "      <td>RAMEZANI</td>\n",
              "      <td>ELIIAN</td>\n",
              "      <td>NaN</td>\n",
              "      <td>NaN</td>\n",
              "      <td>F</td>\n",
              "      <td>I</td>\n",
              "      <td>444 MIDDLE NECK RD APT 1H</td>\n",
              "      <td>NaN</td>\n",
              "      <td>...</td>\n",
              "      <td>97112</td>\n",
              "      <td>Therapeutic procedure to re-educate brain-to-n...</td>\n",
              "      <td>N</td>\n",
              "      <td>589</td>\n",
              "      <td>76</td>\n",
              "      <td>587</td>\n",
              "      <td>38.601052632</td>\n",
              "      <td>46.867572156</td>\n",
              "      <td>29.736876061</td>\n",
              "      <td>25.912139219</td>\n",
              "    </tr>\n",
              "  </tbody>\n",
              "</table>\n",
              "<p>100000 rows × 27 columns</p>\n",
              "</div>\n",
              "      <button class=\"colab-df-convert\" onclick=\"convertToInteractive('df-83c9145c-145d-48d7-9232-b28292ff38ae')\"\n",
              "              title=\"Convert this dataframe to an interactive table.\"\n",
              "              style=\"display:none;\">\n",
              "        \n",
              "  <svg xmlns=\"http://www.w3.org/2000/svg\" height=\"24px\"viewBox=\"0 0 24 24\"\n",
              "       width=\"24px\">\n",
              "    <path d=\"M0 0h24v24H0V0z\" fill=\"none\"/>\n",
              "    <path d=\"M18.56 5.44l.94 2.06.94-2.06 2.06-.94-2.06-.94-.94-2.06-.94 2.06-2.06.94zm-11 1L8.5 8.5l.94-2.06 2.06-.94-2.06-.94L8.5 2.5l-.94 2.06-2.06.94zm10 10l.94 2.06.94-2.06 2.06-.94-2.06-.94-.94-2.06-.94 2.06-2.06.94z\"/><path d=\"M17.41 7.96l-1.37-1.37c-.4-.4-.92-.59-1.43-.59-.52 0-1.04.2-1.43.59L10.3 9.45l-7.72 7.72c-.78.78-.78 2.05 0 2.83L4 21.41c.39.39.9.59 1.41.59.51 0 1.02-.2 1.41-.59l7.78-7.78 2.81-2.81c.8-.78.8-2.07 0-2.86zM5.41 20L4 18.59l7.72-7.72 1.47 1.35L5.41 20z\"/>\n",
              "  </svg>\n",
              "      </button>\n",
              "      \n",
              "  <style>\n",
              "    .colab-df-container {\n",
              "      display:flex;\n",
              "      flex-wrap:wrap;\n",
              "      gap: 12px;\n",
              "    }\n",
              "\n",
              "    .colab-df-convert {\n",
              "      background-color: #E8F0FE;\n",
              "      border: none;\n",
              "      border-radius: 50%;\n",
              "      cursor: pointer;\n",
              "      display: none;\n",
              "      fill: #1967D2;\n",
              "      height: 32px;\n",
              "      padding: 0 0 0 0;\n",
              "      width: 32px;\n",
              "    }\n",
              "\n",
              "    .colab-df-convert:hover {\n",
              "      background-color: #E2EBFA;\n",
              "      box-shadow: 0px 1px 2px rgba(60, 64, 67, 0.3), 0px 1px 3px 1px rgba(60, 64, 67, 0.15);\n",
              "      fill: #174EA6;\n",
              "    }\n",
              "\n",
              "    [theme=dark] .colab-df-convert {\n",
              "      background-color: #3B4455;\n",
              "      fill: #D2E3FC;\n",
              "    }\n",
              "\n",
              "    [theme=dark] .colab-df-convert:hover {\n",
              "      background-color: #434B5C;\n",
              "      box-shadow: 0px 1px 3px 1px rgba(0, 0, 0, 0.15);\n",
              "      filter: drop-shadow(0px 1px 2px rgba(0, 0, 0, 0.3));\n",
              "      fill: #FFFFFF;\n",
              "    }\n",
              "  </style>\n",
              "\n",
              "      <script>\n",
              "        const buttonEl =\n",
              "          document.querySelector('#df-83c9145c-145d-48d7-9232-b28292ff38ae button.colab-df-convert');\n",
              "        buttonEl.style.display =\n",
              "          google.colab.kernel.accessAllowed ? 'block' : 'none';\n",
              "\n",
              "        async function convertToInteractive(key) {\n",
              "          const element = document.querySelector('#df-83c9145c-145d-48d7-9232-b28292ff38ae');\n",
              "          const dataTable =\n",
              "            await google.colab.kernel.invokeFunction('convertToInteractive',\n",
              "                                                     [key], {});\n",
              "          if (!dataTable) return;\n",
              "\n",
              "          const docLinkHtml = 'Like what you see? Visit the ' +\n",
              "            '<a target=\"_blank\" href=https://colab.research.google.com/notebooks/data_table.ipynb>data table notebook</a>'\n",
              "            + ' to learn more about interactive tables.';\n",
              "          element.innerHTML = '';\n",
              "          dataTable['output_type'] = 'display_data';\n",
              "          await google.colab.output.renderOutput(dataTable, element);\n",
              "          const docLink = document.createElement('div');\n",
              "          docLink.innerHTML = docLinkHtml;\n",
              "          element.appendChild(docLink);\n",
              "        }\n",
              "      </script>\n",
              "    </div>\n",
              "  </div>\n",
              "  "
            ]
          },
          "metadata": {},
          "execution_count": 96
        }
      ]
    },
    {
      "cell_type": "code",
      "source": [
        "dele_coma = lambda x: float(x.split()[0].replace(',', ''))"
      ],
      "metadata": {
        "id": "PTNYrJ10XpJ4"
      },
      "execution_count": null,
      "outputs": []
    },
    {
      "cell_type": "code",
      "source": [
        "dele_dot = lambda x: str(x).replace('.', '')"
      ],
      "metadata": {
        "id": "WGjOkmiAQh7R"
      },
      "execution_count": null,
      "outputs": []
    },
    {
      "cell_type": "code",
      "source": [
        "df[\"Number of Medicare Beneficiaries\"] = df[\"Number of Medicare Beneficiaries\"].apply(dele_coma).astype('int')\n",
        "df[\"Average Submitted Charge Amount\"] = df[\"Average Submitted Charge Amount\"].apply(dele_coma).astype('int')\n",
        "df[\"Average Medicare Payment Amount\"] = df[\"Average Medicare Payment Amount\"].apply(dele_coma).astype('int')\n",
        "df[\"Number of Services\"] = df[\"Number of Services\"].apply(dele_coma).astype('int')"
      ],
      "metadata": {
        "id": "rupFm_I5jx0g"
      },
      "execution_count": null,
      "outputs": []
    },
    {
      "cell_type": "code",
      "source": [
        "df[\"Credentials of the Provider\"] = df[\"Credentials of the Provider\"].apply(dele_dot)"
      ],
      "metadata": {
        "id": "YCrnz6GXQusb"
      },
      "execution_count": null,
      "outputs": []
    },
    {
      "cell_type": "markdown",
      "source": [
        "# Number of Medicare Beneficiaries & Average Submitted Charge Amount"
      ],
      "metadata": {
        "id": "g9ELqq7XY-_b"
      }
    },
    {
      "cell_type": "code",
      "source": [
        "top_50 = df.head(50)\n",
        "x_50 = df[\"Number of Medicare Beneficiaries\"].head(50)\n",
        "y_50 = df[\"Average Submitted Charge Amount\"].head(50)"
      ],
      "metadata": {
        "id": "EoniyRLrYPYd"
      },
      "execution_count": null,
      "outputs": []
    },
    {
      "cell_type": "code",
      "source": [
        "sns.boxplot(df[\"Average Submitted Charge Amount\"],data = df,palette=\"PRGn\")\n",
        "plt.show()"
      ],
      "metadata": {
        "colab": {
          "base_uri": "https://localhost:8080/",
          "height": 334
        },
        "id": "VCQnROi0LHeF",
        "outputId": "2a629c0e-bbe7-419a-8b0b-284cabb1cbad"
      },
      "execution_count": null,
      "outputs": [
        {
          "output_type": "stream",
          "name": "stderr",
          "text": [
            "/usr/local/lib/python3.7/dist-packages/seaborn/_decorators.py:43: FutureWarning: Pass the following variable as a keyword arg: x. From version 0.12, the only valid positional argument will be `data`, and passing other arguments without an explicit keyword will result in an error or misinterpretation.\n",
            "  FutureWarning\n"
          ]
        },
        {
          "output_type": "display_data",
          "data": {
            "text/plain": [
              "<Figure size 432x288 with 1 Axes>"
            ],
            "image/png": "[encoded data removed]"
          },
          "metadata": {
            "needs_background": "light"
          }
        }
      ]
    },
    {
      "cell_type": "markdown",
      "source": [
        "The above graph is the visualization of all the average submitted charge amount."
      ],
      "metadata": {
        "id": "W4HLe7CBeCgt"
      }
    },
    {
      "cell_type": "code",
      "source": [
        "sns.boxplot(y_50,data = top_50,palette=\"BuPu\")\n",
        "plt.show()"
      ],
      "metadata": {
        "colab": {
          "base_uri": "https://localhost:8080/",
          "height": 334
        },
        "id": "QTIw7ECZfGGB",
        "outputId": "5b6342f5-32af-4400-ab2b-d5ff32b9a6e1"
      },
      "execution_count": null,
      "outputs": [
        {
          "output_type": "stream",
          "name": "stderr",
          "text": [
            "/usr/local/lib/python3.7/dist-packages/seaborn/_decorators.py:43: FutureWarning: Pass the following variable as a keyword arg: x. From version 0.12, the only valid positional argument will be `data`, and passing other arguments without an explicit keyword will result in an error or misinterpretation.\n",
            "  FutureWarning\n"
          ]
        },
        {
          "output_type": "display_data",
          "data": {
            "text/plain": [
              "<Figure size 432x288 with 1 Axes>"
            ],
            "image/png": "[encoded data removed]"
          },
          "metadata": {
            "needs_background": "light"
          }
        }
      ]
    },
    {
      "cell_type": "markdown",
      "source": [
        "This is when we randomly selected 50 producers' charge amount data. The box was much clearer."
      ],
      "metadata": {
        "id": "2jei-AtgebL6"
      }
    },
    {
      "cell_type": "markdown",
      "source": [
        "## Average Submitted Charge Amount in different state"
      ],
      "metadata": {
        "id": "yHDggQqNZNeS"
      }
    },
    {
      "cell_type": "code",
      "source": [
        "State_mean = df.groupby(\"State Code of the Provider\").mean()\n",
        "State_mean.head(5)"
      ],
      "metadata": {
        "id": "O--heucXjs0m",
        "colab": {
          "base_uri": "https://localhost:8080/",
          "height": 316
        },
        "outputId": "f30cddf7-2b35-4c47-c5e9-681a0ae4b24a"
      },
      "execution_count": null,
      "outputs": [
        {
          "output_type": "execute_result",
          "data": {
            "text/plain": [
              "                                   index  National Provider Identifier  \\\n",
              "State Code of the Provider                                               \n",
              "AA                          9.102959e+06                  1.922088e+09   \n",
              "AE                          5.651398e+06                  1.573333e+09   \n",
              "AK                          5.352203e+06                  1.543042e+09   \n",
              "AL                          4.826140e+06                  1.490206e+09   \n",
              "AP                          6.754616e+06                  1.683454e+09   \n",
              "\n",
              "                            Zip Code of the Provider  Number of Services  \\\n",
              "State Code of the Provider                                                 \n",
              "AA                                      7.350390e+08          220.000000   \n",
              "AE                                      9.292256e+07           35.000000   \n",
              "AK                                      8.088237e+08           65.981818   \n",
              "AL                                      3.144200e+08          289.976936   \n",
              "AP                                      6.425136e+08           74.666667   \n",
              "\n",
              "                            Number of Medicare Beneficiaries  \\\n",
              "State Code of the Provider                                     \n",
              "AA                                                220.000000   \n",
              "AE                                                 34.500000   \n",
              "AK                                                 41.242424   \n",
              "AL                                                 83.328391   \n",
              "AP                                                 72.333333   \n",
              "\n",
              "                            Average Submitted Charge Amount  \\\n",
              "State Code of the Provider                                    \n",
              "AA                                                99.000000   \n",
              "AE                                               288.000000   \n",
              "AK                                               562.727273   \n",
              "AL                                               286.193850   \n",
              "AP                                               264.000000   \n",
              "\n",
              "                            Average Medicare Payment Amount  \n",
              "State Code of the Provider                                   \n",
              "AA                                                28.000000  \n",
              "AE                                                86.500000  \n",
              "AK                                                85.175758  \n",
              "AL                                                68.974739  \n",
              "AP                                                52.666667  "
            ],
            "text/html": [
              "\n",
              "  <div id=\"df-d6dae7a7-f86c-42b0-8cf8-e0b528e2950a\">\n",
              "    <div class=\"colab-df-container\">\n",
              "      <div>\n",
              "<style scoped>\n",
              "    .dataframe tbody tr th:only-of-type {\n",
              "        vertical-align: middle;\n",
              "    }\n",
              "\n",
              "    .dataframe tbody tr th {\n",
              "        vertical-align: top;\n",
              "    }\n",
              "\n",
              "    .dataframe thead th {\n",
              "        text-align: right;\n",
              "    }\n",
              "</style>\n",
              "<table border=\"1\" class=\"dataframe\">\n",
              "  <thead>\n",
              "    <tr style=\"text-align: right;\">\n",
              "      <th></th>\n",
              "      <th>index</th>\n",
              "      <th>National Provider Identifier</th>\n",
              "      <th>Zip Code of the Provider</th>\n",
              "      <th>Number of Services</th>\n",
              "      <th>Number of Medicare Beneficiaries</th>\n",
              "      <th>Average Submitted Charge Amount</th>\n",
              "      <th>Average Medicare Payment Amount</th>\n",
              "    </tr>\n",
              "    <tr>\n",
              "      <th>State Code of the Provider</th>\n",
              "      <th></th>\n",
              "      <th></th>\n",
              "      <th></th>\n",
              "      <th></th>\n",
              "      <th></th>\n",
              "      <th></th>\n",
              "      <th></th>\n",
              "    </tr>\n",
              "  </thead>\n",
              "  <tbody>\n",
              "    <tr>\n",
              "      <th>AA</th>\n",
              "      <td>9.102959e+06</td>\n",
              "      <td>1.922088e+09</td>\n",
              "      <td>7.350390e+08</td>\n",
              "      <td>220.000000</td>\n",
              "      <td>220.000000</td>\n",
              "      <td>99.000000</td>\n",
              "      <td>28.000000</td>\n",
              "    </tr>\n",
              "    <tr>\n",
              "      <th>AE</th>\n",
              "      <td>5.651398e+06</td>\n",
              "      <td>1.573333e+09</td>\n",
              "      <td>9.292256e+07</td>\n",
              "      <td>35.000000</td>\n",
              "      <td>34.500000</td>\n",
              "      <td>288.000000</td>\n",
              "      <td>86.500000</td>\n",
              "    </tr>\n",
              "    <tr>\n",
              "      <th>AK</th>\n",
              "      <td>5.352203e+06</td>\n",
              "      <td>1.543042e+09</td>\n",
              "      <td>8.088237e+08</td>\n",
              "      <td>65.981818</td>\n",
              "      <td>41.242424</td>\n",
              "      <td>562.727273</td>\n",
              "      <td>85.175758</td>\n",
              "    </tr>\n",
              "    <tr>\n",
              "      <th>AL</th>\n",
              "      <td>4.826140e+06</td>\n",
              "      <td>1.490206e+09</td>\n",
              "      <td>3.144200e+08</td>\n",
              "      <td>289.976936</td>\n",
              "      <td>83.328391</td>\n",
              "      <td>286.193850</td>\n",
              "      <td>68.974739</td>\n",
              "    </tr>\n",
              "    <tr>\n",
              "      <th>AP</th>\n",
              "      <td>6.754616e+06</td>\n",
              "      <td>1.683454e+09</td>\n",
              "      <td>6.425136e+08</td>\n",
              "      <td>74.666667</td>\n",
              "      <td>72.333333</td>\n",
              "      <td>264.000000</td>\n",
              "      <td>52.666667</td>\n",
              "    </tr>\n",
              "  </tbody>\n",
              "</table>\n",
              "</div>\n",
              "      <button class=\"colab-df-convert\" onclick=\"convertToInteractive('df-d6dae7a7-f86c-42b0-8cf8-e0b528e2950a')\"\n",
              "              title=\"Convert this dataframe to an interactive table.\"\n",
              "              style=\"display:none;\">\n",
              "        \n",
              "  <svg xmlns=\"http://www.w3.org/2000/svg\" height=\"24px\"viewBox=\"0 0 24 24\"\n",
              "       width=\"24px\">\n",
              "    <path d=\"M0 0h24v24H0V0z\" fill=\"none\"/>\n",
              "    <path d=\"M18.56 5.44l.94 2.06.94-2.06 2.06-.94-2.06-.94-.94-2.06-.94 2.06-2.06.94zm-11 1L8.5 8.5l.94-2.06 2.06-.94-2.06-.94L8.5 2.5l-.94 2.06-2.06.94zm10 10l.94 2.06.94-2.06 2.06-.94-2.06-.94-.94-2.06-.94 2.06-2.06.94z\"/><path d=\"M17.41 7.96l-1.37-1.37c-.4-.4-.92-.59-1.43-.59-.52 0-1.04.2-1.43.59L10.3 9.45l-7.72 7.72c-.78.78-.78 2.05 0 2.83L4 21.41c.39.39.9.59 1.41.59.51 0 1.02-.2 1.41-.59l7.78-7.78 2.81-2.81c.8-.78.8-2.07 0-2.86zM5.41 20L4 18.59l7.72-7.72 1.47 1.35L5.41 20z\"/>\n",
              "  </svg>\n",
              "      </button>\n",
              "      \n",
              "  <style>\n",
              "    .colab-df-container {\n",
              "      display:flex;\n",
              "      flex-wrap:wrap;\n",
              "      gap: 12px;\n",
              "    }\n",
              "\n",
              "    .colab-df-convert {\n",
              "      background-color: #E8F0FE;\n",
              "      border: none;\n",
              "      border-radius: 50%;\n",
              "      cursor: pointer;\n",
              "      display: none;\n",
              "      fill: #1967D2;\n",
              "      height: 32px;\n",
              "      padding: 0 0 0 0;\n",
              "      width: 32px;\n",
              "    }\n",
              "\n",
              "    .colab-df-convert:hover {\n",
              "      background-color: #E2EBFA;\n",
              "      box-shadow: 0px 1px 2px rgba(60, 64, 67, 0.3), 0px 1px 3px 1px rgba(60, 64, 67, 0.15);\n",
              "      fill: #174EA6;\n",
              "    }\n",
              "\n",
              "    [theme=dark] .colab-df-convert {\n",
              "      background-color: #3B4455;\n",
              "      fill: #D2E3FC;\n",
              "    }\n",
              "\n",
              "    [theme=dark] .colab-df-convert:hover {\n",
              "      background-color: #434B5C;\n",
              "      box-shadow: 0px 1px 3px 1px rgba(0, 0, 0, 0.15);\n",
              "      filter: drop-shadow(0px 1px 2px rgba(0, 0, 0, 0.3));\n",
              "      fill: #FFFFFF;\n",
              "    }\n",
              "  </style>\n",
              "\n",
              "      <script>\n",
              "        const buttonEl =\n",
              "          document.querySelector('#df-d6dae7a7-f86c-42b0-8cf8-e0b528e2950a button.colab-df-convert');\n",
              "        buttonEl.style.display =\n",
              "          google.colab.kernel.accessAllowed ? 'block' : 'none';\n",
              "\n",
              "        async function convertToInteractive(key) {\n",
              "          const element = document.querySelector('#df-d6dae7a7-f86c-42b0-8cf8-e0b528e2950a');\n",
              "          const dataTable =\n",
              "            await google.colab.kernel.invokeFunction('convertToInteractive',\n",
              "                                                     [key], {});\n",
              "          if (!dataTable) return;\n",
              "\n",
              "          const docLinkHtml = 'Like what you see? Visit the ' +\n",
              "            '<a target=\"_blank\" href=https://colab.research.google.com/notebooks/data_table.ipynb>data table notebook</a>'\n",
              "            + ' to learn more about interactive tables.';\n",
              "          element.innerHTML = '';\n",
              "          dataTable['output_type'] = 'display_data';\n",
              "          await google.colab.output.renderOutput(dataTable, element);\n",
              "          const docLink = document.createElement('div');\n",
              "          docLink.innerHTML = docLinkHtml;\n",
              "          element.appendChild(docLink);\n",
              "        }\n",
              "      </script>\n",
              "    </div>\n",
              "  </div>\n",
              "  "
            ]
          },
          "metadata": {},
          "execution_count": 104
        }
      ]
    },
    {
      "cell_type": "code",
      "source": [
        "sns.relplot(x=\"Number of Medicare Beneficiaries\", y=\"Average Submitted Charge Amount\", sizes=(100, 200), data = State_mean, palette = \"PuBu_r\");"
      ],
      "metadata": {
        "colab": {
          "base_uri": "https://localhost:8080/",
          "height": 369
        },
        "id": "5yHzlIRxFbmJ",
        "outputId": "0d768835-2d69-4874-ac83-c12b120327d8"
      },
      "execution_count": null,
      "outputs": [
        {
          "output_type": "display_data",
          "data": {
            "text/plain": [
              "<Figure size 360x360 with 1 Axes>"
            ],
            "image/png": "[encoded data removed]"
          },
          "metadata": {
            "needs_background": "light"
          }
        }
      ]
    },
    {
      "cell_type": "code",
      "source": [
        "sns.boxplot(State_mean[\"Average Submitted Charge Amount\"],data = State_mean,palette=\"BuGn\", showmeans = True)\n",
        "plt.show()"
      ],
      "metadata": {
        "colab": {
          "base_uri": "https://localhost:8080/",
          "height": 334
        },
        "id": "jkq19lV-OP0f",
        "outputId": "b91878fb-2995-4d23-defa-ca45865ed070"
      },
      "execution_count": null,
      "outputs": [
        {
          "output_type": "stream",
          "name": "stderr",
          "text": [
            "/usr/local/lib/python3.7/dist-packages/seaborn/_decorators.py:43: FutureWarning: Pass the following variable as a keyword arg: x. From version 0.12, the only valid positional argument will be `data`, and passing other arguments without an explicit keyword will result in an error or misinterpretation.\n",
            "  FutureWarning\n"
          ]
        },
        {
          "output_type": "display_data",
          "data": {
            "text/plain": [
              "<Figure size 432x288 with 1 Axes>"
            ],
            "image/png": "[encoded data removed]"
          },
          "metadata": {
            "needs_background": "light"
          }
        }
      ]
    },
    {
      "cell_type": "code",
      "source": [
        "sns.histplot(data=State_mean, x=\"Average Submitted Charge Amount\", kde=True)"
      ],
      "metadata": {
        "colab": {
          "base_uri": "https://localhost:8080/",
          "height": 297
        },
        "id": "nd93mNzQOZDU",
        "outputId": "01593463-9866-402e-8d74-b1c0da01256d"
      },
      "execution_count": null,
      "outputs": [
        {
          "output_type": "execute_result",
          "data": {
            "text/plain": [
              "<matplotlib.axes._subplots.AxesSubplot at 0x7fd13922ee90>"
            ]
          },
          "metadata": {},
          "execution_count": 107
        },
        {
          "output_type": "display_data",
          "data": {
            "text/plain": [
              "<Figure size 432x288 with 1 Axes>"
            ],
            "image/png": "[encoded data removed]"
          },
          "metadata": {
            "needs_background": "light"
          }
        }
      ]
    },
    {
      "cell_type": "markdown",
      "source": [
        "## Linear Regression - Charge Amount"
      ],
      "metadata": {
        "id": "azOKEm86byx9"
      }
    },
    {
      "cell_type": "code",
      "source": [
        "sample_model = LinearRegression()"
      ],
      "metadata": {
        "id": "ph4bUtXebx3I"
      },
      "execution_count": null,
      "outputs": []
    },
    {
      "cell_type": "code",
      "source": [
        "type(State_mean[['Number of Medicare Beneficiaries']])"
      ],
      "metadata": {
        "colab": {
          "base_uri": "https://localhost:8080/"
        },
        "id": "-W8X_8KXcEx3",
        "outputId": "02d900a1-f24b-41d3-e882-1dd5da469a08"
      },
      "execution_count": null,
      "outputs": [
        {
          "output_type": "execute_result",
          "data": {
            "text/plain": [
              "pandas.core.frame.DataFrame"
            ]
          },
          "metadata": {},
          "execution_count": 109
        }
      ]
    },
    {
      "cell_type": "code",
      "source": [
        "type(State_mean['Average Submitted Charge Amount'])"
      ],
      "metadata": {
        "colab": {
          "base_uri": "https://localhost:8080/"
        },
        "id": "31BH7Uz0cTgH",
        "outputId": "154267f5-725d-467c-bf5c-e1184d06e2ad"
      },
      "execution_count": null,
      "outputs": [
        {
          "output_type": "execute_result",
          "data": {
            "text/plain": [
              "pandas.core.series.Series"
            ]
          },
          "metadata": {},
          "execution_count": 110
        }
      ]
    },
    {
      "cell_type": "code",
      "source": [
        "sample_model.fit(X = State_mean[['Number of Medicare Beneficiaries']], y = State_mean['Average Submitted Charge Amount'])"
      ],
      "metadata": {
        "colab": {
          "base_uri": "https://localhost:8080/"
        },
        "id": "kcxBl6WMb2WL",
        "outputId": "1141cca1-9596-4514-bc72-e5006926c912"
      },
      "execution_count": null,
      "outputs": [
        {
          "output_type": "execute_result",
          "data": {
            "text/plain": [
              "LinearRegression()"
            ]
          },
          "metadata": {},
          "execution_count": 111
        }
      ]
    },
    {
      "cell_type": "markdown",
      "source": [
        "run sample_model.coef_ and sample_model.intercept_ to get the appropriate values that define our regression line"
      ],
      "metadata": {
        "id": "qbMVa2V7dOYt"
      }
    },
    {
      "cell_type": "code",
      "source": [
        "sample_model.coef_"
      ],
      "metadata": {
        "colab": {
          "base_uri": "https://localhost:8080/"
        },
        "id": "Cr96QcLvcqLS",
        "outputId": "d4ef22b9-be31-4912-8b7a-af2b5fa0541a"
      },
      "execution_count": null,
      "outputs": [
        {
          "output_type": "execute_result",
          "data": {
            "text/plain": [
              "array([-0.52910458])"
            ]
          },
          "metadata": {},
          "execution_count": 112
        }
      ]
    },
    {
      "cell_type": "code",
      "source": [
        "sample_model.intercept_"
      ],
      "metadata": {
        "colab": {
          "base_uri": "https://localhost:8080/"
        },
        "id": "UP6qdnkKdFWW",
        "outputId": "7ad8aa04-9ab2-4665-9627-0fb25f17c29b"
      },
      "execution_count": null,
      "outputs": [
        {
          "output_type": "execute_result",
          "data": {
            "text/plain": [
              "380.8266994865568"
            ]
          },
          "metadata": {},
          "execution_count": 113
        }
      ]
    },
    {
      "cell_type": "code",
      "source": [
        "train, test = train_test_split(State_mean, test_size=0.2, random_state=83)"
      ],
      "metadata": {
        "id": "lkjJq81edSIR"
      },
      "execution_count": null,
      "outputs": []
    },
    {
      "cell_type": "code",
      "source": [
        "X_train = train.loc[:, [\"Number of Medicare Beneficiaries\"]]\n",
        "y_train = train[\"Average Submitted Charge Amount\"]\n",
        "X_test = test.loc[:, [\"Number of Medicare Beneficiaries\"]]\n",
        "y_test = test[\"Average Submitted Charge Amount\"]"
      ],
      "metadata": {
        "id": "cwdLPqQ0dWog"
      },
      "execution_count": null,
      "outputs": []
    },
    {
      "cell_type": "code",
      "source": [
        "display(X_train, y_train, X_test, y_test)"
      ],
      "metadata": {
        "id": "Ft8lJag8dd5h"
      },
      "execution_count": null,
      "outputs": []
    },
    {
      "cell_type": "code",
      "source": [
        "model = LinearRegression(fit_intercept=False)\n",
        "model.fit(X_train, y_train)"
      ],
      "metadata": {
        "colab": {
          "base_uri": "https://localhost:8080/"
        },
        "id": "UUQTwU-Fd83J",
        "outputId": "d08b3df0-226e-4c5f-c31e-924c5132339d"
      },
      "execution_count": null,
      "outputs": [
        {
          "output_type": "execute_result",
          "data": {
            "text/plain": [
              "LinearRegression(fit_intercept=False)"
            ]
          },
          "metadata": {},
          "execution_count": 117
        }
      ]
    },
    {
      "cell_type": "code",
      "source": [
        "y_pred_train = model.predict(X_train)\n",
        "y_pred_test = model.predict(X_test)"
      ],
      "metadata": {
        "id": "6gmpV5OUeA2d"
      },
      "execution_count": null,
      "outputs": []
    },
    {
      "cell_type": "code",
      "source": [
        "plt.plot(X_test,y_pred_test)\n",
        "plt.xlabel(\"Number of Medicare Beneficiaries\")\n",
        "plt.ylabel(\"Average Submitted Charge Amount\")\n",
        "plt.title(\"regression line of Charge Amount based on Number of Beneficiaries\")"
      ],
      "metadata": {
        "colab": {
          "base_uri": "https://localhost:8080/",
          "height": 313
        },
        "id": "EMmLCQ_YeF9b",
        "outputId": "74eb7869-65bb-481c-b094-9652c4098e9f"
      },
      "execution_count": null,
      "outputs": [
        {
          "output_type": "execute_result",
          "data": {
            "text/plain": [
              "Text(0.5, 1.0, 'regression line of Charge Amount based on Number of Beneficiaries')"
            ]
          },
          "metadata": {},
          "execution_count": 119
        },
        {
          "output_type": "display_data",
          "data": {
            "text/plain": [
              "<Figure size 432x288 with 1 Axes>"
            ],
            "image/png": "[encoded data removed]"
          },
          "metadata": {
            "needs_background": "light"
          }
        }
      ]
    },
    {
      "cell_type": "code",
      "source": [
        "plt.scatter(X_test,y_test, alpha=0.5)\n",
        "plt.plot(X_test,y_pred_test)\n",
        "plt.xlabel(\"Number of Medicare Beneficiaries\")\n",
        "plt.ylabel(\"Average Submitted Charge Amount\")\n",
        "plt.title(\"regression line of Charge Amount based on Number of Beneficiaries\")"
      ],
      "metadata": {
        "colab": {
          "base_uri": "https://localhost:8080/",
          "height": 313
        },
        "id": "peTjrKxLTGhG",
        "outputId": "0118f4cc-1813-42bd-8417-e4ce1f4f8aed"
      },
      "execution_count": null,
      "outputs": [
        {
          "output_type": "execute_result",
          "data": {
            "text/plain": [
              "Text(0.5, 1.0, 'regression line of Charge Amount based on Number of Beneficiaries')"
            ]
          },
          "metadata": {},
          "execution_count": 120
        },
        {
          "output_type": "display_data",
          "data": {
            "text/plain": [
              "<Figure size 432x288 with 1 Axes>"
            ],
            "image/png": "[encoded data removed]"
          },
          "metadata": {
            "needs_background": "light"
          }
        }
      ]
    },
    {
      "cell_type": "code",
      "source": [
        "sns.regplot(State_mean[\"Number of Medicare Beneficiaries\"], State_mean[\"Average Submitted Charge Amount\"])\n",
        "#create scatterplot with regression line and confidence interval lines"
      ],
      "metadata": {
        "colab": {
          "base_uri": "https://localhost:8080/",
          "height": 352
        },
        "id": "wMIyiBiPN-BL",
        "outputId": "0a958b69-7479-46f9-c064-14f1201dd019"
      },
      "execution_count": null,
      "outputs": [
        {
          "output_type": "stream",
          "name": "stderr",
          "text": [
            "/usr/local/lib/python3.7/dist-packages/seaborn/_decorators.py:43: FutureWarning: Pass the following variables as keyword args: x, y. From version 0.12, the only valid positional argument will be `data`, and passing other arguments without an explicit keyword will result in an error or misinterpretation.\n",
            "  FutureWarning\n"
          ]
        },
        {
          "output_type": "execute_result",
          "data": {
            "text/plain": [
              "<matplotlib.axes._subplots.AxesSubplot at 0x7fd13cf86450>"
            ]
          },
          "metadata": {},
          "execution_count": 121
        },
        {
          "output_type": "display_data",
          "data": {
            "text/plain": [
              "<Figure size 432x288 with 1 Axes>"
            ],
            "image/png": "[encoded data removed]"
          },
          "metadata": {
            "needs_background": "light"
          }
        }
      ]
    },
    {
      "cell_type": "markdown",
      "source": [
        "The above graph is a scatterplot with regression line and confidence interval lines"
      ],
      "metadata": {
        "id": "hmJm8ksbaUyy"
      }
    },
    {
      "cell_type": "markdown",
      "source": [
        "## Linear Regression - Payment Amount"
      ],
      "metadata": {
        "id": "QphohBKVaRT5"
      }
    },
    {
      "cell_type": "code",
      "source": [
        "sample_model = LinearRegression()\n",
        "sample_model.fit(X = State_mean[['Number of Medicare Beneficiaries']], \n",
        "                 y = State_mean['Average Medicare Payment Amount'])\n",
        "sample_model.coef_\n",
        "sample_model.intercept_\n",
        "train, test = train_test_split(State_mean, test_size=0.2, random_state=83)\n",
        "X_train = train.loc[:, [\"Number of Medicare Beneficiaries\"]]\n",
        "y_train = train[\"Average Medicare Payment Amount\"]\n",
        "X_test = test.loc[:, [\"Number of Medicare Beneficiaries\"]]\n",
        "y_test = test[\"Average Medicare Payment Amount\"]\n",
        "display(X_train, y_train, X_test, y_test)\n",
        "model = LinearRegression(fit_intercept=False)\n",
        "model.fit(X_train, y_train)\n",
        "y_pred_train = model.predict(X_train)\n",
        "y_pred_test = model.predict(X_test)"
      ],
      "metadata": {
        "id": "vrcSYKSWXnX9"
      },
      "execution_count": null,
      "outputs": []
    },
    {
      "cell_type": "code",
      "source": [
        "payment_RMSE = root_mean_squared_error(y_pred_test, y_test)\n",
        "payment_MAE = mean_absolute_error(y_pred_test, y_test)"
      ],
      "metadata": {
        "id": "EsYpjmmkYzpz"
      },
      "execution_count": null,
      "outputs": []
    },
    {
      "cell_type": "code",
      "source": [
        "plt.scatter(X_test,y_test, alpha=0.5)\n",
        "plt.plot(X_test,y_pred_test)\n",
        "plt.xlabel(\"Number of Medicare Beneficiaries\")\n",
        "plt.ylabel(\"Average Medicare Payment Amount\")\n",
        "plt.title(\"regression line of Payment Amount based on Number of Beneficiaries\")"
      ],
      "metadata": {
        "colab": {
          "base_uri": "https://localhost:8080/",
          "height": 313
        },
        "id": "d_h9FcFYXi2y",
        "outputId": "23f25352-9ff4-4434-fd62-9fdbd6f80d57"
      },
      "execution_count": null,
      "outputs": [
        {
          "output_type": "execute_result",
          "data": {
            "text/plain": [
              "Text(0.5, 1.0, 'regression line of Payment Amount based on Number of Beneficiaries')"
            ]
          },
          "metadata": {},
          "execution_count": 90
        },
        {
          "output_type": "display_data",
          "data": {
            "text/plain": [
              "<Figure size 432x288 with 1 Axes>"
            ],
            "image/png": "[encoded data removed]"
          },
          "metadata": {
            "needs_background": "light"
          }
        }
      ]
    },
    {
      "cell_type": "markdown",
      "source": [
        "This is the graph that combines regression model and scatterplot. The x-value is the number of medicare beneficiaries and y-value is the average medicare payment amount of the medical service producers.\\\n",
        "The RMSE of this regression prediction is 26.995905543053972 and MAE is 18.927994027986994. We can see that the regression line fits with the data mostly.\\\n",
        "There is a pretty obvious outlier value at the right of this graph, with about 180 at the number of medicare beneficiaries while 60 as the payment amount,which is way much lower than predicted value based on the regression relationship."
      ],
      "metadata": {
        "id": "09Twy30UZX2-"
      }
    },
    {
      "cell_type": "markdown",
      "source": [
        "#Linear Regression - Payment Amount & Number of Services"
      ],
      "metadata": {
        "id": "dwkzgvL5budU"
      }
    },
    {
      "cell_type": "code",
      "source": [
        "sample_model = LinearRegression()\n",
        "sample_model.fit(X = State_mean[['Number of Services']], y = State_mean['Average Submitted Charge Amount'])\n",
        "sample_model.coef_\n",
        "sample_model.intercept_\n",
        "train, test = train_test_split(State_mean, test_size=0.2, random_state=83)\n",
        "X_train = train.loc[:, [\"Number of Services\"]]\n",
        "y_train = train[\"Average Submitted Charge Amount\"]\n",
        "X_test = test.loc[:, [\"Number of Services\"]]\n",
        "y_test = test[\"Average Submitted Charge Amount\"]\n",
        "display(X_train, y_train, X_test, y_test)\n",
        "model = LinearRegression(fit_intercept=False)\n",
        "model.fit(X_train, y_train)\n",
        "y_pred_train = model.predict(X_train)\n",
        "y_pred_test = model.predict(X_test)"
      ],
      "metadata": {
        "id": "mAbp7S7Ja3_r"
      },
      "execution_count": null,
      "outputs": []
    },
    {
      "cell_type": "code",
      "source": [
        "plt.scatter(X_test,y_test, alpha=0.5)\n",
        "plt.plot(X_test,y_pred_test)\n",
        "plt.xlabel(\"Number of Services\")\n",
        "plt.ylabel(\"Average Submitted Charge Amount\")\n",
        "plt.title(\"regression line of Charge Amount based on Number of Services\")"
      ],
      "metadata": {
        "colab": {
          "base_uri": "https://localhost:8080/",
          "height": 313
        },
        "id": "-IIEQAA-bkTb",
        "outputId": "aab8fb8b-2543-4c7c-f2e9-b88daee49d07"
      },
      "execution_count": null,
      "outputs": [
        {
          "output_type": "execute_result",
          "data": {
            "text/plain": [
              "Text(0.5, 1.0, 'regression line of Charge Amount based on Number of Services')"
            ]
          },
          "metadata": {},
          "execution_count": 128
        },
        {
          "output_type": "display_data",
          "data": {
            "text/plain": [
              "<Figure size 432x288 with 1 Axes>"
            ],
            "image/png": "[encoded data removed]"
          },
          "metadata": {
            "needs_background": "light"
          }
        }
      ]
    },
    {
      "cell_type": "markdown",
      "source": [
        "Through comparing Linear Regression - Payment Amount & Number of Services and Linear Regression - Payment Amount & Number of Beneficiaries, it seems like Number of Beneficiaries can be a better indicator of outliers."
      ],
      "metadata": {
        "id": "8erMbkOFb0Sx"
      }
    },
    {
      "cell_type": "markdown",
      "source": [
        "# Average Submitted Charge Amount in California"
      ],
      "metadata": {
        "id": "5VHCLfLEY3te"
      }
    },
    {
      "cell_type": "code",
      "source": [
        "CA = df.where(df[\"State Code of the Provider\"] == 'CA').\n",
        "      sort_values(by=['State Code of the Provider'])\n",
        "CA.dropna()\n",
        "CA.head(5)"
      ],
      "metadata": {
        "colab": {
          "base_uri": "https://localhost:8080/",
          "height": 612
        },
        "id": "ywFsb-pEX-je",
        "outputId": "6de73956-e1e9-457a-8f53-7511c7308d75"
      },
      "execution_count": null,
      "outputs": [
        {
          "output_type": "execute_result",
          "data": {
            "text/plain": [
              "           index  National Provider Identifier  \\\n",
              "7      6169160.0                  1.629161e+09   \n",
              "66801  8670061.0                  1.881036e+09   \n",
              "66785  7919731.0                  1.801824e+09   \n",
              "66778  1115072.0                  1.114233e+09   \n",
              "66707  5389173.0                  1.548384e+09   \n",
              "\n",
              "      Last Name/Organization Name of the Provider First Name of the Provider  \\\n",
              "7                                       GALBREATH                     RONALD   \n",
              "66801                                KRISTJANSSON                   JENNIFER   \n",
              "66785                                        MENG                    MAXWELL   \n",
              "66778                                       DAYAL                      RAKHI   \n",
              "66707                                       BEAHM                      BRENT   \n",
              "\n",
              "      Middle Initial of the Provider Credentials of the Provider  \\\n",
              "7                                  G                          MD   \n",
              "66801                            NaN                          MD   \n",
              "66785                              V                          MD   \n",
              "66778                            NaN                          MD   \n",
              "66707                              W                          MD   \n",
              "\n",
              "      Gender of the Provider Entity Type of the Provider  \\\n",
              "7                          M                           I   \n",
              "66801                      F                           I   \n",
              "66785                      M                           I   \n",
              "66778                      F                           I   \n",
              "66707                      M                           I   \n",
              "\n",
              "      Street Address 1 of the Provider  Street Address 2 of the Provider  ...  \\\n",
              "7                12522 E. LAMBERT ROAD                           SUITE D  ...   \n",
              "66801               2315 STOCKTON BLVD  DEPARTMENT OF EMERGENCY MEDICINE  ...   \n",
              "66785          1600 DIVISADERO ST FL 3                               NaN  ...   \n",
              "66778                1520 SAN PABLO ST                        SUITE 3451  ...   \n",
              "66707                 1400 E CHURCH ST                               NaN  ...   \n",
              "\n",
              "      HCPCS Code                                  HCPCS Description  \\\n",
              "7          G0008          Administration of influenza virus vaccine   \n",
              "66801      99285  Emergency department visit, problem with signi...   \n",
              "66785      52000  Diagnostic examination of the bladder and blad...   \n",
              "66778      99232  Subsequent hospital inpatient care, typically ...   \n",
              "66707      73060             X-ray of upper arm, minimum of 2 views   \n",
              "\n",
              "      HCPCS Drug Indicator Number of Services  \\\n",
              "7                        N                 52   \n",
              "66801                    N                100   \n",
              "66785                    N                181   \n",
              "66778                    N                 73   \n",
              "66707                    N                 14   \n",
              "\n",
              "      Number of Medicare Beneficiaries  \\\n",
              "7                                 50.0   \n",
              "66801                            100.0   \n",
              "66785                            104.0   \n",
              "66778                             36.0   \n",
              "66707                             13.0   \n",
              "\n",
              "      Number of Distinct Medicare Beneficiary/Per Day Services  \\\n",
              "7                                                     52         \n",
              "66801                                                100         \n",
              "66785                                                181         \n",
              "66778                                                 73         \n",
              "66707                                                 13         \n",
              "\n",
              "      Average Medicare Allowed Amount Average Submitted Charge Amount  \\\n",
              "7                               29.33                            50.0   \n",
              "66801                          176.38                           988.0   \n",
              "66785                          122.21                          1267.0   \n",
              "66778                           78.57                           302.0   \n",
              "66707                    8.6578571429                            25.0   \n",
              "\n",
              "      Average Medicare Payment Amount Average Medicare Standardized Amount  \n",
              "7                               28.74                                25.32  \n",
              "66801                        127.3587                             126.9606  \n",
              "66785                    85.301270718                         73.306187845  \n",
              "66778                            61.6                                 57.4  \n",
              "66707                    5.3328571429                                 5.31  \n",
              "\n",
              "[5 rows x 27 columns]"
            ],
            "text/html": [
              "\n",
              "  <div id=\"df-06c3923b-9f29-4d6c-8354-25cd4ed16f97\">\n",
              "    <div class=\"colab-df-container\">\n",
              "      <div>\n",
              "<style scoped>\n",
              "    .dataframe tbody tr th:only-of-type {\n",
              "        vertical-align: middle;\n",
              "    }\n",
              "\n",
              "    .dataframe tbody tr th {\n",
              "        vertical-align: top;\n",
              "    }\n",
              "\n",
              "    .dataframe thead th {\n",
              "        text-align: right;\n",
              "    }\n",
              "</style>\n",
              "<table border=\"1\" class=\"dataframe\">\n",
              "  <thead>\n",
              "    <tr style=\"text-align: right;\">\n",
              "      <th></th>\n",
              "      <th>index</th>\n",
              "      <th>National Provider Identifier</th>\n",
              "      <th>Last Name/Organization Name of the Provider</th>\n",
              "      <th>First Name of the Provider</th>\n",
              "      <th>Middle Initial of the Provider</th>\n",
              "      <th>Credentials of the Provider</th>\n",
              "      <th>Gender of the Provider</th>\n",
              "      <th>Entity Type of the Provider</th>\n",
              "      <th>Street Address 1 of the Provider</th>\n",
              "      <th>Street Address 2 of the Provider</th>\n",
              "      <th>...</th>\n",
              "      <th>HCPCS Code</th>\n",
              "      <th>HCPCS Description</th>\n",
              "      <th>HCPCS Drug Indicator</th>\n",
              "      <th>Number of Services</th>\n",
              "      <th>Number of Medicare Beneficiaries</th>\n",
              "      <th>Number of Distinct Medicare Beneficiary/Per Day Services</th>\n",
              "      <th>Average Medicare Allowed Amount</th>\n",
              "      <th>Average Submitted Charge Amount</th>\n",
              "      <th>Average Medicare Payment Amount</th>\n",
              "      <th>Average Medicare Standardized Amount</th>\n",
              "    </tr>\n",
              "  </thead>\n",
              "  <tbody>\n",
              "    <tr>\n",
              "      <th>7</th>\n",
              "      <td>6169160.0</td>\n",
              "      <td>1.629161e+09</td>\n",
              "      <td>GALBREATH</td>\n",
              "      <td>RONALD</td>\n",
              "      <td>G</td>\n",
              "      <td>MD</td>\n",
              "      <td>M</td>\n",
              "      <td>I</td>\n",
              "      <td>12522 E. LAMBERT ROAD</td>\n",
              "      <td>SUITE D</td>\n",
              "      <td>...</td>\n",
              "      <td>G0008</td>\n",
              "      <td>Administration of influenza virus vaccine</td>\n",
              "      <td>N</td>\n",
              "      <td>52</td>\n",
              "      <td>50.0</td>\n",
              "      <td>52</td>\n",
              "      <td>29.33</td>\n",
              "      <td>50.0</td>\n",
              "      <td>28.74</td>\n",
              "      <td>25.32</td>\n",
              "    </tr>\n",
              "    <tr>\n",
              "      <th>66801</th>\n",
              "      <td>8670061.0</td>\n",
              "      <td>1.881036e+09</td>\n",
              "      <td>KRISTJANSSON</td>\n",
              "      <td>JENNIFER</td>\n",
              "      <td>NaN</td>\n",
              "      <td>MD</td>\n",
              "      <td>F</td>\n",
              "      <td>I</td>\n",
              "      <td>2315 STOCKTON BLVD</td>\n",
              "      <td>DEPARTMENT OF EMERGENCY MEDICINE</td>\n",
              "      <td>...</td>\n",
              "      <td>99285</td>\n",
              "      <td>Emergency department visit, problem with signi...</td>\n",
              "      <td>N</td>\n",
              "      <td>100</td>\n",
              "      <td>100.0</td>\n",
              "      <td>100</td>\n",
              "      <td>176.38</td>\n",
              "      <td>988.0</td>\n",
              "      <td>127.3587</td>\n",
              "      <td>126.9606</td>\n",
              "    </tr>\n",
              "    <tr>\n",
              "      <th>66785</th>\n",
              "      <td>7919731.0</td>\n",
              "      <td>1.801824e+09</td>\n",
              "      <td>MENG</td>\n",
              "      <td>MAXWELL</td>\n",
              "      <td>V</td>\n",
              "      <td>MD</td>\n",
              "      <td>M</td>\n",
              "      <td>I</td>\n",
              "      <td>1600 DIVISADERO ST FL 3</td>\n",
              "      <td>NaN</td>\n",
              "      <td>...</td>\n",
              "      <td>52000</td>\n",
              "      <td>Diagnostic examination of the bladder and blad...</td>\n",
              "      <td>N</td>\n",
              "      <td>181</td>\n",
              "      <td>104.0</td>\n",
              "      <td>181</td>\n",
              "      <td>122.21</td>\n",
              "      <td>1267.0</td>\n",
              "      <td>85.301270718</td>\n",
              "      <td>73.306187845</td>\n",
              "    </tr>\n",
              "    <tr>\n",
              "      <th>66778</th>\n",
              "      <td>1115072.0</td>\n",
              "      <td>1.114233e+09</td>\n",
              "      <td>DAYAL</td>\n",
              "      <td>RAKHI</td>\n",
              "      <td>NaN</td>\n",
              "      <td>MD</td>\n",
              "      <td>F</td>\n",
              "      <td>I</td>\n",
              "      <td>1520 SAN PABLO ST</td>\n",
              "      <td>SUITE 3451</td>\n",
              "      <td>...</td>\n",
              "      <td>99232</td>\n",
              "      <td>Subsequent hospital inpatient care, typically ...</td>\n",
              "      <td>N</td>\n",
              "      <td>73</td>\n",
              "      <td>36.0</td>\n",
              "      <td>73</td>\n",
              "      <td>78.57</td>\n",
              "      <td>302.0</td>\n",
              "      <td>61.6</td>\n",
              "      <td>57.4</td>\n",
              "    </tr>\n",
              "    <tr>\n",
              "      <th>66707</th>\n",
              "      <td>5389173.0</td>\n",
              "      <td>1.548384e+09</td>\n",
              "      <td>BEAHM</td>\n",
              "      <td>BRENT</td>\n",
              "      <td>W</td>\n",
              "      <td>MD</td>\n",
              "      <td>M</td>\n",
              "      <td>I</td>\n",
              "      <td>1400 E CHURCH ST</td>\n",
              "      <td>NaN</td>\n",
              "      <td>...</td>\n",
              "      <td>73060</td>\n",
              "      <td>X-ray of upper arm, minimum of 2 views</td>\n",
              "      <td>N</td>\n",
              "      <td>14</td>\n",
              "      <td>13.0</td>\n",
              "      <td>13</td>\n",
              "      <td>8.6578571429</td>\n",
              "      <td>25.0</td>\n",
              "      <td>5.3328571429</td>\n",
              "      <td>5.31</td>\n",
              "    </tr>\n",
              "  </tbody>\n",
              "</table>\n",
              "<p>5 rows × 27 columns</p>\n",
              "</div>\n",
              "      <button class=\"colab-df-convert\" onclick=\"convertToInteractive('df-06c3923b-9f29-4d6c-8354-25cd4ed16f97')\"\n",
              "              title=\"Convert this dataframe to an interactive table.\"\n",
              "              style=\"display:none;\">\n",
              "        \n",
              "  <svg xmlns=\"http://www.w3.org/2000/svg\" height=\"24px\"viewBox=\"0 0 24 24\"\n",
              "       width=\"24px\">\n",
              "    <path d=\"M0 0h24v24H0V0z\" fill=\"none\"/>\n",
              "    <path d=\"M18.56 5.44l.94 2.06.94-2.06 2.06-.94-2.06-.94-.94-2.06-.94 2.06-2.06.94zm-11 1L8.5 8.5l.94-2.06 2.06-.94-2.06-.94L8.5 2.5l-.94 2.06-2.06.94zm10 10l.94 2.06.94-2.06 2.06-.94-2.06-.94-.94-2.06-.94 2.06-2.06.94z\"/><path d=\"M17.41 7.96l-1.37-1.37c-.4-.4-.92-.59-1.43-.59-.52 0-1.04.2-1.43.59L10.3 9.45l-7.72 7.72c-.78.78-.78 2.05 0 2.83L4 21.41c.39.39.9.59 1.41.59.51 0 1.02-.2 1.41-.59l7.78-7.78 2.81-2.81c.8-.78.8-2.07 0-2.86zM5.41 20L4 18.59l7.72-7.72 1.47 1.35L5.41 20z\"/>\n",
              "  </svg>\n",
              "      </button>\n",
              "      \n",
              "  <style>\n",
              "    .colab-df-container {\n",
              "      display:flex;\n",
              "      flex-wrap:wrap;\n",
              "      gap: 12px;\n",
              "    }\n",
              "\n",
              "    .colab-df-convert {\n",
              "      background-color: #E8F0FE;\n",
              "      border: none;\n",
              "      border-radius: 50%;\n",
              "      cursor: pointer;\n",
              "      display: none;\n",
              "      fill: #1967D2;\n",
              "      height: 32px;\n",
              "      padding: 0 0 0 0;\n",
              "      width: 32px;\n",
              "    }\n",
              "\n",
              "    .colab-df-convert:hover {\n",
              "      background-color: #E2EBFA;\n",
              "      box-shadow: 0px 1px 2px rgba(60, 64, 67, 0.3), 0px 1px 3px 1px rgba(60, 64, 67, 0.15);\n",
              "      fill: #174EA6;\n",
              "    }\n",
              "\n",
              "    [theme=dark] .colab-df-convert {\n",
              "      background-color: #3B4455;\n",
              "      fill: #D2E3FC;\n",
              "    }\n",
              "\n",
              "    [theme=dark] .colab-df-convert:hover {\n",
              "      background-color: #434B5C;\n",
              "      box-shadow: 0px 1px 3px 1px rgba(0, 0, 0, 0.15);\n",
              "      filter: drop-shadow(0px 1px 2px rgba(0, 0, 0, 0.3));\n",
              "      fill: #FFFFFF;\n",
              "    }\n",
              "  </style>\n",
              "\n",
              "      <script>\n",
              "        const buttonEl =\n",
              "          document.querySelector('#df-06c3923b-9f29-4d6c-8354-25cd4ed16f97 button.colab-df-convert');\n",
              "        buttonEl.style.display =\n",
              "          google.colab.kernel.accessAllowed ? 'block' : 'none';\n",
              "\n",
              "        async function convertToInteractive(key) {\n",
              "          const element = document.querySelector('#df-06c3923b-9f29-4d6c-8354-25cd4ed16f97');\n",
              "          const dataTable =\n",
              "            await google.colab.kernel.invokeFunction('convertToInteractive',\n",
              "                                                     [key], {});\n",
              "          if (!dataTable) return;\n",
              "\n",
              "          const docLinkHtml = 'Like what you see? Visit the ' +\n",
              "            '<a target=\"_blank\" href=https://colab.research.google.com/notebooks/data_table.ipynb>data table notebook</a>'\n",
              "            + ' to learn more about interactive tables.';\n",
              "          element.innerHTML = '';\n",
              "          dataTable['output_type'] = 'display_data';\n",
              "          await google.colab.output.renderOutput(dataTable, element);\n",
              "          const docLink = document.createElement('div');\n",
              "          docLink.innerHTML = docLinkHtml;\n",
              "          element.appendChild(docLink);\n",
              "        }\n",
              "      </script>\n",
              "    </div>\n",
              "  </div>\n",
              "  "
            ]
          },
          "metadata": {},
          "execution_count": 28
        }
      ]
    },
    {
      "cell_type": "code",
      "source": [
        "sns.boxplot(CA[\"Average Submitted Charge Amount\"],data = CA,palette=\"BuGn\")\n",
        "plt.show()"
      ],
      "metadata": {
        "colab": {
          "base_uri": "https://localhost:8080/",
          "height": 334
        },
        "id": "xN_C4jH-YCZa",
        "outputId": "bd7103da-9fab-435e-e67b-922fa29cac7e"
      },
      "execution_count": null,
      "outputs": [
        {
          "output_type": "stream",
          "name": "stderr",
          "text": [
            "/usr/local/lib/python3.7/dist-packages/seaborn/_decorators.py:43: FutureWarning: Pass the following variable as a keyword arg: x. From version 0.12, the only valid positional argument will be `data`, and passing other arguments without an explicit keyword will result in an error or misinterpretation.\n",
            "  FutureWarning\n"
          ]
        },
        {
          "output_type": "display_data",
          "data": {
            "text/plain": [
              "<Figure size 432x288 with 1 Axes>"
            ],
            "image/png": "[encoded data removed]"
          },
          "metadata": {
            "needs_background": "light"
          }
        }
      ]
    },
    {
      "cell_type": "code",
      "source": [
        "sns.relplot(x=\"Number of Medicare Beneficiaries\", y=\"Average Submitted Charge Amount\", sizes=(15, 200), data=CA);"
      ],
      "metadata": {
        "colab": {
          "base_uri": "https://localhost:8080/",
          "height": 369
        },
        "id": "WBYjtMV0YFi0",
        "outputId": "5aff2c31-0fef-413f-bc2b-249c691a2141"
      },
      "execution_count": null,
      "outputs": [
        {
          "output_type": "display_data",
          "data": {
            "text/plain": [
              "<Figure size 360x360 with 1 Axes>"
            ],
            "image/png": "[encoded data removed]"
          },
          "metadata": {
            "needs_background": "light"
          }
        }
      ]
    },
    {
      "cell_type": "code",
      "source": [
        "CA_50 = CA.head(50)\n",
        "CA_x_50 = CA[\"Number of Medicare Beneficiaries\"].head(50)\n",
        "CA_y_50 = CA[\"Average Submitted Charge Amount\"].head(50)"
      ],
      "metadata": {
        "id": "K29mLRu4YH-q"
      },
      "execution_count": null,
      "outputs": []
    },
    {
      "cell_type": "code",
      "source": [
        "sns.relplot(CA_x_50, CA_y_50, sizes=(15, 200), data=CA_50);"
      ],
      "metadata": {
        "colab": {
          "base_uri": "https://localhost:8080/",
          "height": 424
        },
        "id": "MQe0lcFyYKiF",
        "outputId": "94fdde5c-4e65-4c26-9fb1-b052cfca18f1"
      },
      "execution_count": null,
      "outputs": [
        {
          "output_type": "stream",
          "name": "stderr",
          "text": [
            "/usr/local/lib/python3.7/dist-packages/seaborn/_decorators.py:43: FutureWarning: Pass the following variables as keyword args: x, y. From version 0.12, the only valid positional argument will be `data`, and passing other arguments without an explicit keyword will result in an error or misinterpretation.\n",
            "  FutureWarning\n"
          ]
        },
        {
          "output_type": "display_data",
          "data": {
            "text/plain": [
              "<Figure size 360x360 with 1 Axes>"
            ],
            "image/png": "[encoded data removed]"
          },
          "metadata": {
            "needs_background": "light"
          }
        }
      ]
    },
    {
      "cell_type": "code",
      "source": [
        "sns.boxplot(CA_y_50,data = CA_50,palette=\"BuGn\")\n",
        "plt.show()"
      ],
      "metadata": {
        "colab": {
          "base_uri": "https://localhost:8080/",
          "height": 334
        },
        "id": "JIpj-VeLYNiH",
        "outputId": "457e10ea-6b6a-4305-a29e-93453d97d983"
      },
      "execution_count": null,
      "outputs": [
        {
          "output_type": "stream",
          "name": "stderr",
          "text": [
            "/usr/local/lib/python3.7/dist-packages/seaborn/_decorators.py:43: FutureWarning: Pass the following variable as a keyword arg: x. From version 0.12, the only valid positional argument will be `data`, and passing other arguments without an explicit keyword will result in an error or misinterpretation.\n",
            "  FutureWarning\n"
          ]
        },
        {
          "output_type": "display_data",
          "data": {
            "text/plain": [
              "<Figure size 432x288 with 1 Axes>"
            ],
            "image/png": "[encoded data removed]"
          },
          "metadata": {
            "needs_background": "light"
          }
        }
      ]
    },
    {
      "cell_type": "markdown",
      "source": [
        "# DO vs MD & Average Submitted Charge Amount\n",
        "Medical students in DO programs must complete 200 hours of training in osteopathic manipulative treatment (OMT; physically manipulating body tissue to treat patients) beyond the typical medical curriculum. MD students do not receive OMT training during medical school.\n",
        "\n",
        "Whereas MD students have to pass the United States Medical Licensing Exam (USMLE) to obtain licensure, DO students must pass the Comprehensive Medical Licensing Examination (COMLEX) to obtain their medical license.\n",
        "\n",
        "MD physicians tend to specialize (e.g., cardiology, neurology, ophthalmology) and work in urban areas. DO physicians tend to practice as primary care physicians and work in rural areas (more on this later).\n",
        "\n",
        "As of November 2021, there are 155 accredited MD programs but only 37 accredited DO programs in the United States.\n",
        "\n",
        "There is a roughly 9:1 ratio of MD vs. DO physicians in the United States.\n",
        "\n",
        "DO programs are more likely than MD programs to accept medical students from nontraditional backgrounds, including applicants who are older and pursuing medicine as a second career."
      ],
      "metadata": {
        "id": "1Onr91P7Xv4Y"
      }
    },
    {
      "cell_type": "code",
      "source": [
        "creden_mean = df.groupby(\"Credentials of the Provider\").mean()\n",
        "creden_mean"
      ],
      "metadata": {
        "colab": {
          "base_uri": "https://localhost:8080/",
          "height": 534
        },
        "id": "n9gHaVOeYb9f",
        "outputId": "bd9bb9f5-b8ea-46f0-9f81-544499ea9946"
      },
      "execution_count": null,
      "outputs": [
        {
          "output_type": "execute_result",
          "data": {
            "text/plain": [
              "                                    index  National Provider Identifier  \\\n",
              "Credentials of the Provider                                               \n",
              "A-NP                         7.309938e+06                  1.740246e+09   \n",
              "A/ACNP-BC                    6.703678e+06                  1.679949e+09   \n",
              "A/GNP-C                      9.464136e+06                  1.962416e+09   \n",
              "AA                           4.974529e+06                  1.503114e+09   \n",
              "AA-C                         4.474781e+06                  1.453239e+09   \n",
              "...                                   ...                           ...   \n",
              "WHNP, ANP                    2.467578e+06                  1.255312e+09   \n",
              "WHNP, FNP, BC                2.458090e+05                  1.023099e+09   \n",
              "WHNP- BC                     6.015274e+06                  1.619017e+09   \n",
              "WHNP-BC                      4.785389e+06                  1.487869e+09   \n",
              "nan                          4.957753e+06                  1.502858e+09   \n",
              "\n",
              "                             Zip Code of the Provider  \\\n",
              "Credentials of the Provider                             \n",
              "A-NP                                     2.260100e+04   \n",
              "A/ACNP-BC                                7.802825e+08   \n",
              "A/GNP-C                                  7.749473e+08   \n",
              "AA                                       4.607431e+08   \n",
              "AA-C                                     4.023215e+08   \n",
              "...                                               ...   \n",
              "WHNP, ANP                                9.450649e+08   \n",
              "WHNP, FNP, BC                            3.856347e+08   \n",
              "WHNP- BC                                 1.470166e+08   \n",
              "WHNP-BC                                  2.011562e+08   \n",
              "nan                                      4.128929e+08   \n",
              "\n",
              "                             Number of Medicare Beneficiaries  \\\n",
              "Credentials of the Provider                                     \n",
              "A-NP                                               196.000000   \n",
              "A/ACNP-BC                                          200.000000   \n",
              "A/GNP-C                                             11.000000   \n",
              "AA                                                  22.166667   \n",
              "AA-C                                                29.000000   \n",
              "...                                                       ...   \n",
              "WHNP, ANP                                           64.000000   \n",
              "WHNP, FNP, BC                                       12.000000   \n",
              "WHNP- BC                                            39.000000   \n",
              "WHNP-BC                                             49.500000   \n",
              "nan                                                327.144264   \n",
              "\n",
              "                             Average Submitted Charge Amount  \n",
              "Credentials of the Provider                                   \n",
              "A-NP                                              102.000000  \n",
              "A/ACNP-BC                                         198.000000  \n",
              "A/GNP-C                                           165.000000  \n",
              "AA                                               1523.666667  \n",
              "AA-C                                              801.285714  \n",
              "...                                                      ...  \n",
              "WHNP, ANP                                         150.000000  \n",
              "WHNP, FNP, BC                                       5.000000  \n",
              "WHNP- BC                                           45.000000  \n",
              "WHNP-BC                                           207.500000  \n",
              "nan                                               607.925510  \n",
              "\n",
              "[1540 rows x 5 columns]"
            ],
            "text/html": [
              "\n",
              "  <div id=\"df-b32814b1-cf5d-4d5f-b5f3-8da0f8559045\">\n",
              "    <div class=\"colab-df-container\">\n",
              "      <div>\n",
              "<style scoped>\n",
              "    .dataframe tbody tr th:only-of-type {\n",
              "        vertical-align: middle;\n",
              "    }\n",
              "\n",
              "    .dataframe tbody tr th {\n",
              "        vertical-align: top;\n",
              "    }\n",
              "\n",
              "    .dataframe thead th {\n",
              "        text-align: right;\n",
              "    }\n",
              "</style>\n",
              "<table border=\"1\" class=\"dataframe\">\n",
              "  <thead>\n",
              "    <tr style=\"text-align: right;\">\n",
              "      <th></th>\n",
              "      <th>index</th>\n",
              "      <th>National Provider Identifier</th>\n",
              "      <th>Zip Code of the Provider</th>\n",
              "      <th>Number of Medicare Beneficiaries</th>\n",
              "      <th>Average Submitted Charge Amount</th>\n",
              "    </tr>\n",
              "    <tr>\n",
              "      <th>Credentials of the Provider</th>\n",
              "      <th></th>\n",
              "      <th></th>\n",
              "      <th></th>\n",
              "      <th></th>\n",
              "      <th></th>\n",
              "    </tr>\n",
              "  </thead>\n",
              "  <tbody>\n",
              "    <tr>\n",
              "      <th>A-NP</th>\n",
              "      <td>7.309938e+06</td>\n",
              "      <td>1.740246e+09</td>\n",
              "      <td>2.260100e+04</td>\n",
              "      <td>196.000000</td>\n",
              "      <td>102.000000</td>\n",
              "    </tr>\n",
              "    <tr>\n",
              "      <th>A/ACNP-BC</th>\n",
              "      <td>6.703678e+06</td>\n",
              "      <td>1.679949e+09</td>\n",
              "      <td>7.802825e+08</td>\n",
              "      <td>200.000000</td>\n",
              "      <td>198.000000</td>\n",
              "    </tr>\n",
              "    <tr>\n",
              "      <th>A/GNP-C</th>\n",
              "      <td>9.464136e+06</td>\n",
              "      <td>1.962416e+09</td>\n",
              "      <td>7.749473e+08</td>\n",
              "      <td>11.000000</td>\n",
              "      <td>165.000000</td>\n",
              "    </tr>\n",
              "    <tr>\n",
              "      <th>AA</th>\n",
              "      <td>4.974529e+06</td>\n",
              "      <td>1.503114e+09</td>\n",
              "      <td>4.607431e+08</td>\n",
              "      <td>22.166667</td>\n",
              "      <td>1523.666667</td>\n",
              "    </tr>\n",
              "    <tr>\n",
              "      <th>AA-C</th>\n",
              "      <td>4.474781e+06</td>\n",
              "      <td>1.453239e+09</td>\n",
              "      <td>4.023215e+08</td>\n",
              "      <td>29.000000</td>\n",
              "      <td>801.285714</td>\n",
              "    </tr>\n",
              "    <tr>\n",
              "      <th>...</th>\n",
              "      <td>...</td>\n",
              "      <td>...</td>\n",
              "      <td>...</td>\n",
              "      <td>...</td>\n",
              "      <td>...</td>\n",
              "    </tr>\n",
              "    <tr>\n",
              "      <th>WHNP, ANP</th>\n",
              "      <td>2.467578e+06</td>\n",
              "      <td>1.255312e+09</td>\n",
              "      <td>9.450649e+08</td>\n",
              "      <td>64.000000</td>\n",
              "      <td>150.000000</td>\n",
              "    </tr>\n",
              "    <tr>\n",
              "      <th>WHNP, FNP, BC</th>\n",
              "      <td>2.458090e+05</td>\n",
              "      <td>1.023099e+09</td>\n",
              "      <td>3.856347e+08</td>\n",
              "      <td>12.000000</td>\n",
              "      <td>5.000000</td>\n",
              "    </tr>\n",
              "    <tr>\n",
              "      <th>WHNP- BC</th>\n",
              "      <td>6.015274e+06</td>\n",
              "      <td>1.619017e+09</td>\n",
              "      <td>1.470166e+08</td>\n",
              "      <td>39.000000</td>\n",
              "      <td>45.000000</td>\n",
              "    </tr>\n",
              "    <tr>\n",
              "      <th>WHNP-BC</th>\n",
              "      <td>4.785389e+06</td>\n",
              "      <td>1.487869e+09</td>\n",
              "      <td>2.011562e+08</td>\n",
              "      <td>49.500000</td>\n",
              "      <td>207.500000</td>\n",
              "    </tr>\n",
              "    <tr>\n",
              "      <th>nan</th>\n",
              "      <td>4.957753e+06</td>\n",
              "      <td>1.502858e+09</td>\n",
              "      <td>4.128929e+08</td>\n",
              "      <td>327.144264</td>\n",
              "      <td>607.925510</td>\n",
              "    </tr>\n",
              "  </tbody>\n",
              "</table>\n",
              "<p>1540 rows × 5 columns</p>\n",
              "</div>\n",
              "      <button class=\"colab-df-convert\" onclick=\"convertToInteractive('df-b32814b1-cf5d-4d5f-b5f3-8da0f8559045')\"\n",
              "              title=\"Convert this dataframe to an interactive table.\"\n",
              "              style=\"display:none;\">\n",
              "        \n",
              "  <svg xmlns=\"http://www.w3.org/2000/svg\" height=\"24px\"viewBox=\"0 0 24 24\"\n",
              "       width=\"24px\">\n",
              "    <path d=\"M0 0h24v24H0V0z\" fill=\"none\"/>\n",
              "    <path d=\"M18.56 5.44l.94 2.06.94-2.06 2.06-.94-2.06-.94-.94-2.06-.94 2.06-2.06.94zm-11 1L8.5 8.5l.94-2.06 2.06-.94-2.06-.94L8.5 2.5l-.94 2.06-2.06.94zm10 10l.94 2.06.94-2.06 2.06-.94-2.06-.94-.94-2.06-.94 2.06-2.06.94z\"/><path d=\"M17.41 7.96l-1.37-1.37c-.4-.4-.92-.59-1.43-.59-.52 0-1.04.2-1.43.59L10.3 9.45l-7.72 7.72c-.78.78-.78 2.05 0 2.83L4 21.41c.39.39.9.59 1.41.59.51 0 1.02-.2 1.41-.59l7.78-7.78 2.81-2.81c.8-.78.8-2.07 0-2.86zM5.41 20L4 18.59l7.72-7.72 1.47 1.35L5.41 20z\"/>\n",
              "  </svg>\n",
              "      </button>\n",
              "      \n",
              "  <style>\n",
              "    .colab-df-container {\n",
              "      display:flex;\n",
              "      flex-wrap:wrap;\n",
              "      gap: 12px;\n",
              "    }\n",
              "\n",
              "    .colab-df-convert {\n",
              "      background-color: #E8F0FE;\n",
              "      border: none;\n",
              "      border-radius: 50%;\n",
              "      cursor: pointer;\n",
              "      display: none;\n",
              "      fill: #1967D2;\n",
              "      height: 32px;\n",
              "      padding: 0 0 0 0;\n",
              "      width: 32px;\n",
              "    }\n",
              "\n",
              "    .colab-df-convert:hover {\n",
              "      background-color: #E2EBFA;\n",
              "      box-shadow: 0px 1px 2px rgba(60, 64, 67, 0.3), 0px 1px 3px 1px rgba(60, 64, 67, 0.15);\n",
              "      fill: #174EA6;\n",
              "    }\n",
              "\n",
              "    [theme=dark] .colab-df-convert {\n",
              "      background-color: #3B4455;\n",
              "      fill: #D2E3FC;\n",
              "    }\n",
              "\n",
              "    [theme=dark] .colab-df-convert:hover {\n",
              "      background-color: #434B5C;\n",
              "      box-shadow: 0px 1px 3px 1px rgba(0, 0, 0, 0.15);\n",
              "      filter: drop-shadow(0px 1px 2px rgba(0, 0, 0, 0.3));\n",
              "      fill: #FFFFFF;\n",
              "    }\n",
              "  </style>\n",
              "\n",
              "      <script>\n",
              "        const buttonEl =\n",
              "          document.querySelector('#df-b32814b1-cf5d-4d5f-b5f3-8da0f8559045 button.colab-df-convert');\n",
              "        buttonEl.style.display =\n",
              "          google.colab.kernel.accessAllowed ? 'block' : 'none';\n",
              "\n",
              "        async function convertToInteractive(key) {\n",
              "          const element = document.querySelector('#df-b32814b1-cf5d-4d5f-b5f3-8da0f8559045');\n",
              "          const dataTable =\n",
              "            await google.colab.kernel.invokeFunction('convertToInteractive',\n",
              "                                                     [key], {});\n",
              "          if (!dataTable) return;\n",
              "\n",
              "          const docLinkHtml = 'Like what you see? Visit the ' +\n",
              "            '<a target=\"_blank\" href=https://colab.research.google.com/notebooks/data_table.ipynb>data table notebook</a>'\n",
              "            + ' to learn more about interactive tables.';\n",
              "          element.innerHTML = '';\n",
              "          dataTable['output_type'] = 'display_data';\n",
              "          await google.colab.output.renderOutput(dataTable, element);\n",
              "          const docLink = document.createElement('div');\n",
              "          docLink.innerHTML = docLinkHtml;\n",
              "          element.appendChild(docLink);\n",
              "        }\n",
              "      </script>\n",
              "    </div>\n",
              "  </div>\n",
              "  "
            ]
          },
          "metadata": {},
          "execution_count": 34
        }
      ]
    },
    {
      "cell_type": "code",
      "source": [
        "sns.relplot(x=\"Credentials of the Provider\", y=\"Average Submitted Charge Amount\", sizes=(100, 200), data = creden_mean, palette = \"PuBu_r\");"
      ],
      "metadata": {
        "colab": {
          "base_uri": "https://localhost:8080/",
          "height": 369
        },
        "id": "Mhr_byS8YTGG",
        "outputId": "1f40db19-81dc-49d8-e875-574beef47973"
      },
      "execution_count": null,
      "outputs": [
        {
          "output_type": "display_data",
          "data": {
            "text/plain": [
              "<Figure size 360x360 with 1 Axes>"
            ],
            "image/png": "[encoded data removed]"
          },
          "metadata": {
            "needs_background": "light"
          }
        }
      ]
    },
    {
      "cell_type": "code",
      "source": [
        "creden_MD = df.where(df[\"Credentials of the Provider\"] == \"MD\").dropna()\n",
        "creden_MD.head(5)"
      ],
      "metadata": {
        "id": "EA9sgk73TGio"
      },
      "execution_count": null,
      "outputs": []
    },
    {
      "cell_type": "code",
      "source": [
        "creden_DO = df.where(df[\"Credentials of the Provider\"] == \"DO\").dropna()\n",
        "creden_DO.head(5)"
      ],
      "metadata": {
        "id": "G9foysw9TYua"
      },
      "execution_count": null,
      "outputs": []
    },
    {
      "cell_type": "code",
      "source": [
        "creden = pd.concat([creden_MD, creden_DO])\n",
        "creden.head(5)"
      ],
      "metadata": {
        "colab": {
          "base_uri": "https://localhost:8080/",
          "height": 612
        },
        "id": "3U4wOXTtU8vX",
        "outputId": "efd654a7-e25f-447e-d2e3-6764365a2406"
      },
      "execution_count": null,
      "outputs": [
        {
          "output_type": "execute_result",
          "data": {
            "text/plain": [
              "        index  National Provider Identifier  \\\n",
              "7   6169160.0                  1.629161e+09   \n",
              "17  7008969.0                  1.710088e+09   \n",
              "33  8238504.0                  1.831289e+09   \n",
              "47  8439720.0                  1.851504e+09   \n",
              "57  4591932.0                  1.467548e+09   \n",
              "\n",
              "   Last Name/Organization Name of the Provider First Name of the Provider  \\\n",
              "7                                    GALBREATH                     RONALD   \n",
              "17                                    CAMPBELL                      AARON   \n",
              "33                                     HEIFETZ                      SUSAN   \n",
              "47                                     EICHTEN                    JEFFREY   \n",
              "57                                   LANDIS II                       JOHN   \n",
              "\n",
              "   Middle Initial of the Provider Credentials of the Provider  \\\n",
              "7                               G                          MD   \n",
              "17                              W                          MD   \n",
              "33                              D                          MD   \n",
              "47                              E                          MD   \n",
              "57                              N                          MD   \n",
              "\n",
              "   Gender of the Provider Entity Type of the Provider  \\\n",
              "7                       M                           I   \n",
              "17                      M                           I   \n",
              "33                      F                           I   \n",
              "47                      M                           I   \n",
              "57                      M                           I   \n",
              "\n",
              "   Street Address 1 of the Provider Street Address 2 of the Provider  ...  \\\n",
              "7             12522 E. LAMBERT ROAD                          SUITE D  ...   \n",
              "17               605 MEDICAL COURTS                        SUITE 203  ...   \n",
              "33                 2067 W VISTA WAY                        SUITE 200  ...   \n",
              "47                   707 ASH STREET            DULUTH CLINIC-SPOONER  ...   \n",
              "57                     3300 MAIN ST                2ND FLOOR SUITE A  ...   \n",
              "\n",
              "   HCPCS Code                                  HCPCS Description  \\\n",
              "7       G0008          Administration of influenza virus vaccine   \n",
              "17      99212  Established patient office or other outpatient...   \n",
              "33      G0008          Administration of influenza virus vaccine   \n",
              "47      99316  Nursing facility discharge management, more th...   \n",
              "57      94375     Diagnostic testing in a pulmonary function lab   \n",
              "\n",
              "   HCPCS Drug Indicator Number of Services Number of Medicare Beneficiaries  \\\n",
              "7                     N                 52                             50.0   \n",
              "17                    N                 21                             14.0   \n",
              "33                    N                112                            109.0   \n",
              "47                    N                 11                             11.0   \n",
              "57                    N                 20                             20.0   \n",
              "\n",
              "   Number of Distinct Medicare Beneficiary/Per Day Services  \\\n",
              "7                                                  52         \n",
              "17                                                 21         \n",
              "33                                                112         \n",
              "47                                                 11         \n",
              "57                                                 20         \n",
              "\n",
              "   Average Medicare Allowed Amount Average Submitted Charge Amount  \\\n",
              "7                            29.33                            50.0   \n",
              "17                           42.06                            87.0   \n",
              "33                       27.390625                            28.0   \n",
              "47                          103.26                           351.0   \n",
              "57                           15.47                            31.0   \n",
              "\n",
              "   Average Medicare Payment Amount Average Medicare Standardized Amount  \n",
              "7                            28.74                                25.32  \n",
              "17                    26.698095238                         28.406190476  \n",
              "33                    26.601071429                         25.107410714  \n",
              "47                           80.96                                84.13  \n",
              "57                           12.13                                11.82  \n",
              "\n",
              "[5 rows x 27 columns]"
            ],
            "text/html": [
              "\n",
              "  <div id=\"df-1190853e-50b6-41d1-9e58-d6fffd026fdc\">\n",
              "    <div class=\"colab-df-container\">\n",
              "      <div>\n",
              "<style scoped>\n",
              "    .dataframe tbody tr th:only-of-type {\n",
              "        vertical-align: middle;\n",
              "    }\n",
              "\n",
              "    .dataframe tbody tr th {\n",
              "        vertical-align: top;\n",
              "    }\n",
              "\n",
              "    .dataframe thead th {\n",
              "        text-align: right;\n",
              "    }\n",
              "</style>\n",
              "<table border=\"1\" class=\"dataframe\">\n",
              "  <thead>\n",
              "    <tr style=\"text-align: right;\">\n",
              "      <th></th>\n",
              "      <th>index</th>\n",
              "      <th>National Provider Identifier</th>\n",
              "      <th>Last Name/Organization Name of the Provider</th>\n",
              "      <th>First Name of the Provider</th>\n",
              "      <th>Middle Initial of the Provider</th>\n",
              "      <th>Credentials of the Provider</th>\n",
              "      <th>Gender of the Provider</th>\n",
              "      <th>Entity Type of the Provider</th>\n",
              "      <th>Street Address 1 of the Provider</th>\n",
              "      <th>Street Address 2 of the Provider</th>\n",
              "      <th>...</th>\n",
              "      <th>HCPCS Code</th>\n",
              "      <th>HCPCS Description</th>\n",
              "      <th>HCPCS Drug Indicator</th>\n",
              "      <th>Number of Services</th>\n",
              "      <th>Number of Medicare Beneficiaries</th>\n",
              "      <th>Number of Distinct Medicare Beneficiary/Per Day Services</th>\n",
              "      <th>Average Medicare Allowed Amount</th>\n",
              "      <th>Average Submitted Charge Amount</th>\n",
              "      <th>Average Medicare Payment Amount</th>\n",
              "      <th>Average Medicare Standardized Amount</th>\n",
              "    </tr>\n",
              "  </thead>\n",
              "  <tbody>\n",
              "    <tr>\n",
              "      <th>7</th>\n",
              "      <td>6169160.0</td>\n",
              "      <td>1.629161e+09</td>\n",
              "      <td>GALBREATH</td>\n",
              "      <td>RONALD</td>\n",
              "      <td>G</td>\n",
              "      <td>MD</td>\n",
              "      <td>M</td>\n",
              "      <td>I</td>\n",
              "      <td>12522 E. LAMBERT ROAD</td>\n",
              "      <td>SUITE D</td>\n",
              "      <td>...</td>\n",
              "      <td>G0008</td>\n",
              "      <td>Administration of influenza virus vaccine</td>\n",
              "      <td>N</td>\n",
              "      <td>52</td>\n",
              "      <td>50.0</td>\n",
              "      <td>52</td>\n",
              "      <td>29.33</td>\n",
              "      <td>50.0</td>\n",
              "      <td>28.74</td>\n",
              "      <td>25.32</td>\n",
              "    </tr>\n",
              "    <tr>\n",
              "      <th>17</th>\n",
              "      <td>7008969.0</td>\n",
              "      <td>1.710088e+09</td>\n",
              "      <td>CAMPBELL</td>\n",
              "      <td>AARON</td>\n",
              "      <td>W</td>\n",
              "      <td>MD</td>\n",
              "      <td>M</td>\n",
              "      <td>I</td>\n",
              "      <td>605 MEDICAL COURTS</td>\n",
              "      <td>SUITE 203</td>\n",
              "      <td>...</td>\n",
              "      <td>99212</td>\n",
              "      <td>Established patient office or other outpatient...</td>\n",
              "      <td>N</td>\n",
              "      <td>21</td>\n",
              "      <td>14.0</td>\n",
              "      <td>21</td>\n",
              "      <td>42.06</td>\n",
              "      <td>87.0</td>\n",
              "      <td>26.698095238</td>\n",
              "      <td>28.406190476</td>\n",
              "    </tr>\n",
              "    <tr>\n",
              "      <th>33</th>\n",
              "      <td>8238504.0</td>\n",
              "      <td>1.831289e+09</td>\n",
              "      <td>HEIFETZ</td>\n",
              "      <td>SUSAN</td>\n",
              "      <td>D</td>\n",
              "      <td>MD</td>\n",
              "      <td>F</td>\n",
              "      <td>I</td>\n",
              "      <td>2067 W VISTA WAY</td>\n",
              "      <td>SUITE 200</td>\n",
              "      <td>...</td>\n",
              "      <td>G0008</td>\n",
              "      <td>Administration of influenza virus vaccine</td>\n",
              "      <td>N</td>\n",
              "      <td>112</td>\n",
              "      <td>109.0</td>\n",
              "      <td>112</td>\n",
              "      <td>27.390625</td>\n",
              "      <td>28.0</td>\n",
              "      <td>26.601071429</td>\n",
              "      <td>25.107410714</td>\n",
              "    </tr>\n",
              "    <tr>\n",
              "      <th>47</th>\n",
              "      <td>8439720.0</td>\n",
              "      <td>1.851504e+09</td>\n",
              "      <td>EICHTEN</td>\n",
              "      <td>JEFFREY</td>\n",
              "      <td>E</td>\n",
              "      <td>MD</td>\n",
              "      <td>M</td>\n",
              "      <td>I</td>\n",
              "      <td>707 ASH STREET</td>\n",
              "      <td>DULUTH CLINIC-SPOONER</td>\n",
              "      <td>...</td>\n",
              "      <td>99316</td>\n",
              "      <td>Nursing facility discharge management, more th...</td>\n",
              "      <td>N</td>\n",
              "      <td>11</td>\n",
              "      <td>11.0</td>\n",
              "      <td>11</td>\n",
              "      <td>103.26</td>\n",
              "      <td>351.0</td>\n",
              "      <td>80.96</td>\n",
              "      <td>84.13</td>\n",
              "    </tr>\n",
              "    <tr>\n",
              "      <th>57</th>\n",
              "      <td>4591932.0</td>\n",
              "      <td>1.467548e+09</td>\n",
              "      <td>LANDIS II</td>\n",
              "      <td>JOHN</td>\n",
              "      <td>N</td>\n",
              "      <td>MD</td>\n",
              "      <td>M</td>\n",
              "      <td>I</td>\n",
              "      <td>3300 MAIN ST</td>\n",
              "      <td>2ND FLOOR SUITE A</td>\n",
              "      <td>...</td>\n",
              "      <td>94375</td>\n",
              "      <td>Diagnostic testing in a pulmonary function lab</td>\n",
              "      <td>N</td>\n",
              "      <td>20</td>\n",
              "      <td>20.0</td>\n",
              "      <td>20</td>\n",
              "      <td>15.47</td>\n",
              "      <td>31.0</td>\n",
              "      <td>12.13</td>\n",
              "      <td>11.82</td>\n",
              "    </tr>\n",
              "  </tbody>\n",
              "</table>\n",
              "<p>5 rows × 27 columns</p>\n",
              "</div>\n",
              "      <button class=\"colab-df-convert\" onclick=\"convertToInteractive('df-1190853e-50b6-41d1-9e58-d6fffd026fdc')\"\n",
              "              title=\"Convert this dataframe to an interactive table.\"\n",
              "              style=\"display:none;\">\n",
              "        \n",
              "  <svg xmlns=\"http://www.w3.org/2000/svg\" height=\"24px\"viewBox=\"0 0 24 24\"\n",
              "       width=\"24px\">\n",
              "    <path d=\"M0 0h24v24H0V0z\" fill=\"none\"/>\n",
              "    <path d=\"M18.56 5.44l.94 2.06.94-2.06 2.06-.94-2.06-.94-.94-2.06-.94 2.06-2.06.94zm-11 1L8.5 8.5l.94-2.06 2.06-.94-2.06-.94L8.5 2.5l-.94 2.06-2.06.94zm10 10l.94 2.06.94-2.06 2.06-.94-2.06-.94-.94-2.06-.94 2.06-2.06.94z\"/><path d=\"M17.41 7.96l-1.37-1.37c-.4-.4-.92-.59-1.43-.59-.52 0-1.04.2-1.43.59L10.3 9.45l-7.72 7.72c-.78.78-.78 2.05 0 2.83L4 21.41c.39.39.9.59 1.41.59.51 0 1.02-.2 1.41-.59l7.78-7.78 2.81-2.81c.8-.78.8-2.07 0-2.86zM5.41 20L4 18.59l7.72-7.72 1.47 1.35L5.41 20z\"/>\n",
              "  </svg>\n",
              "      </button>\n",
              "      \n",
              "  <style>\n",
              "    .colab-df-container {\n",
              "      display:flex;\n",
              "      flex-wrap:wrap;\n",
              "      gap: 12px;\n",
              "    }\n",
              "\n",
              "    .colab-df-convert {\n",
              "      background-color: #E8F0FE;\n",
              "      border: none;\n",
              "      border-radius: 50%;\n",
              "      cursor: pointer;\n",
              "      display: none;\n",
              "      fill: #1967D2;\n",
              "      height: 32px;\n",
              "      padding: 0 0 0 0;\n",
              "      width: 32px;\n",
              "    }\n",
              "\n",
              "    .colab-df-convert:hover {\n",
              "      background-color: #E2EBFA;\n",
              "      box-shadow: 0px 1px 2px rgba(60, 64, 67, 0.3), 0px 1px 3px 1px rgba(60, 64, 67, 0.15);\n",
              "      fill: #174EA6;\n",
              "    }\n",
              "\n",
              "    [theme=dark] .colab-df-convert {\n",
              "      background-color: #3B4455;\n",
              "      fill: #D2E3FC;\n",
              "    }\n",
              "\n",
              "    [theme=dark] .colab-df-convert:hover {\n",
              "      background-color: #434B5C;\n",
              "      box-shadow: 0px 1px 3px 1px rgba(0, 0, 0, 0.15);\n",
              "      filter: drop-shadow(0px 1px 2px rgba(0, 0, 0, 0.3));\n",
              "      fill: #FFFFFF;\n",
              "    }\n",
              "  </style>\n",
              "\n",
              "      <script>\n",
              "        const buttonEl =\n",
              "          document.querySelector('#df-1190853e-50b6-41d1-9e58-d6fffd026fdc button.colab-df-convert');\n",
              "        buttonEl.style.display =\n",
              "          google.colab.kernel.accessAllowed ? 'block' : 'none';\n",
              "\n",
              "        async function convertToInteractive(key) {\n",
              "          const element = document.querySelector('#df-1190853e-50b6-41d1-9e58-d6fffd026fdc');\n",
              "          const dataTable =\n",
              "            await google.colab.kernel.invokeFunction('convertToInteractive',\n",
              "                                                     [key], {});\n",
              "          if (!dataTable) return;\n",
              "\n",
              "          const docLinkHtml = 'Like what you see? Visit the ' +\n",
              "            '<a target=\"_blank\" href=https://colab.research.google.com/notebooks/data_table.ipynb>data table notebook</a>'\n",
              "            + ' to learn more about interactive tables.';\n",
              "          element.innerHTML = '';\n",
              "          dataTable['output_type'] = 'display_data';\n",
              "          await google.colab.output.renderOutput(dataTable, element);\n",
              "          const docLink = document.createElement('div');\n",
              "          docLink.innerHTML = docLinkHtml;\n",
              "          element.appendChild(docLink);\n",
              "        }\n",
              "      </script>\n",
              "    </div>\n",
              "  </div>\n",
              "  "
            ]
          },
          "metadata": {},
          "execution_count": 53
        }
      ]
    },
    {
      "cell_type": "code",
      "source": [
        "sns.barplot(x=creden['Credentials of the Provider'],y=creden['Average Submitted Charge Amount'], palette = sns.color_palette('coolwarm'))\n",
        "plt.xticks(rotation=45)\n",
        "plt.show()"
      ],
      "metadata": {
        "id": "fPEQ4560D-GE",
        "colab": {
          "base_uri": "https://localhost:8080/",
          "height": 288
        },
        "outputId": "1815f024-ad8c-4190-e473-f2fec62fa50b"
      },
      "execution_count": null,
      "outputs": [
        {
          "output_type": "display_data",
          "data": {
            "text/plain": [
              "<Figure size 432x288 with 1 Axes>"
            ],
            "image/png": "[encoded data removed]"
          },
          "metadata": {
            "needs_background": "light"
          }
        }
      ]
    },
    {
      "cell_type": "markdown",
      "source": [
        "Providers with MD credential tend to set higher average submitterd charge amount in healthcare products than those with DO credential."
      ],
      "metadata": {
        "id": "ze5MkHXFWtRv"
      }
    },
    {
      "cell_type": "code",
      "source": [
        "#plt.figure(figsize=(10,10)) #size of the graph"
      ],
      "metadata": {
        "id": "6TDFMXv4VuU4"
      },
      "execution_count": null,
      "outputs": []
    }
  ]
}